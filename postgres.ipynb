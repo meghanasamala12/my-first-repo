{
 "cells": [
  {
   "cell_type": "code",
   "execution_count": 1,
   "id": "2d0b3dc7-71cb-46ff-b871-80d4e96e0913",
   "metadata": {},
   "outputs": [
    {
     "name": "stdout",
     "output_type": "stream",
     "text": [
      "Collecting psycopg2-binary\n",
      "  Downloading psycopg2_binary-2.9.10-cp313-cp313-macosx_14_0_arm64.whl.metadata (4.9 kB)\n",
      "Downloading psycopg2_binary-2.9.10-cp313-cp313-macosx_14_0_arm64.whl (3.3 MB)\n",
      "\u001b[2K   \u001b[90m━━━━━━━━━━━━━━━━━━━━━━━━━━━━━━━━━━━━━━━━\u001b[0m \u001b[32m3.3/3.3 MB\u001b[0m \u001b[31m39.4 MB/s\u001b[0m  \u001b[33m0:00:00\u001b[0m\n",
      "Installing collected packages: psycopg2-binary\n",
      "Successfully installed psycopg2-binary-2.9.10\n",
      "Note: you may need to restart the kernel to use updated packages.\n"
     ]
    }
   ],
   "source": [
    "pip install psycopg2-binary\n"
   ]
  },
  {
   "cell_type": "code",
   "execution_count": 9,
   "id": "e9e0efc5-f8d1-41dd-9419-5a89558cd1a4",
   "metadata": {},
   "outputs": [
    {
     "name": "stdout",
     "output_type": "stream",
     "text": [
      "✅ Connected to PostgreSQL successfully!\n"
     ]
    }
   ],
   "source": [
    "import psycopg2\n",
    "\n",
    "# Connection settings (adjust if different)\n",
    "conn = psycopg2.connect(\n",
    "    host=\"localhost\",\n",
    "    port=\"5432\",\n",
    "    database=\"data engineer\",   # the database name you want to connect to\n",
    "    user=\"postgres\",              # your postgres username\n",
    "    password=\"1234\"                  # the password you set\n",
    ")\n",
    "\n",
    "cur = conn.cursor()\n",
    "\n",
    "print(\"✅ Connected to PostgreSQL successfully!\")\n",
    "\n"
   ]
  },
  {
   "cell_type": "code",
   "execution_count": 10,
   "id": "8c8bbfe5-dc2a-4689-80d8-505ee20db0de",
   "metadata": {},
   "outputs": [
    {
     "name": "stdout",
     "output_type": "stream",
     "text": [
      "✅ Student table created successfully!\n"
     ]
    }
   ],
   "source": [
    "\n",
    "# Create student table\n",
    "create_table_query = \"\"\"\n",
    "CREATE TABLE IF NOT EXISTS student (\n",
    "    student_id SERIAL PRIMARY KEY,\n",
    "    name VARCHAR(100) NOT NULL,\n",
    "    age INT,\n",
    "    major VARCHAR(50),\n",
    "    gpa NUMERIC(3,2),\n",
    "    enrollment_date DATE DEFAULT CURRENT_DATE\n",
    ");\n",
    "\"\"\"\n",
    "\n",
    "cur.execute(create_table_query)\n",
    "conn.commit()\n",
    "print(\"✅ Student table created successfully!\")\n",
    "\n"
   ]
  },
  {
   "cell_type": "code",
   "execution_count": 11,
   "id": "fa21de21-8a29-4668-9368-8c7c3eae7a94",
   "metadata": {},
   "outputs": [
    {
     "name": "stdout",
     "output_type": "stream",
     "text": [
      "✅ Data inserted!\n"
     ]
    }
   ],
   "source": [
    "# Insert data into student table\n",
    "insert_query = \"\"\"\n",
    "INSERT INTO student (name, age, major, gpa)\n",
    "VALUES (%s, %s, %s, %s);\n",
    "\"\"\"\n",
    "cur.execute(insert_query, (\"John Doe\", 20, \"Computer Science\", 3.8))\n",
    "conn.commit()\n",
    "print(\"✅ Data inserted!\")"
   ]
  },
  {
   "cell_type": "code",
   "execution_count": null,
   "id": "0ed8993b-a02d-4155-b82c-5d26cf8e3ffc",
   "metadata": {},
   "outputs": [],
   "source": []
  }
 ],
 "metadata": {
  "kernelspec": {
   "display_name": "Python [conda env:base] *",
   "language": "python",
   "name": "conda-base-py"
  },
  "language_info": {
   "codemirror_mode": {
    "name": "ipython",
    "version": 3
   },
   "file_extension": ".py",
   "mimetype": "text/x-python",
   "name": "python",
   "nbconvert_exporter": "python",
   "pygments_lexer": "ipython3",
   "version": "3.13.5"
  }
 },
 "nbformat": 4,
 "nbformat_minor": 5
}
