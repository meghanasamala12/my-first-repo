{
 "cells": [
  {
   "cell_type": "code",
   "execution_count": 26,
   "id": "cbc83fc3-8912-45c9-8b75-52eadeb8a392",
   "metadata": {},
   "outputs": [
    {
     "name": "stdout",
     "output_type": "stream",
     "text": [
      "Requirement already satisfied: pymongo in /opt/anaconda3/lib/python3.13/site-packages (4.15.1)\n",
      "Requirement already satisfied: dnspython<3.0.0,>=1.16.0 in /opt/anaconda3/lib/python3.13/site-packages (from pymongo) (2.8.0)\n",
      "Note: you may need to restart the kernel to use updated packages.\n"
     ]
    }
   ],
   "source": [
    "pip install pymongo"
   ]
  },
  {
   "cell_type": "code",
   "execution_count": 27,
   "id": "42ee7e4c-66f4-476b-a51a-787d0dc395e0",
   "metadata": {},
   "outputs": [
    {
     "name": "stdout",
     "output_type": "stream",
     "text": [
      "✅ Connected to MongoDB!\n",
      "Databases: ['Nobel_Prices', 'admin', 'config', 'local']\n"
     ]
    }
   ],
   "source": [
    "from pymongo import MongoClient\n",
    "\n",
    "try:\n",
    "    # Connect to MongoDB (default localhost:27017)\n",
    "    client = MongoClient(\"mongodb://localhost:27017/\")\n",
    "\n",
    "    # Send a ping command to check connection\n",
    "    client.admin.command(\"ping\")\n",
    "\n",
    "    print(\"✅ Connected to MongoDB!\")\n",
    "\n",
    "    # Optional: List databases\n",
    "    print(\"Databases:\", client.list_database_names())\n",
    "\n",
    "except Exception as e:\n",
    "    print(\"❌ Could not connect to MongoDB:\", e)\n"
   ]
  },
  {
   "cell_type": "code",
   "execution_count": 28,
   "id": "f81869f5-b3ef-449a-91c4-305628bfa3eb",
   "metadata": {},
   "outputs": [],
   "source": [
    "from pymongo import MongoClient\n",
    "\n",
    "# Replace with your MongoDB URI\n",
    "#client = MongoClient(\"mongodb://localhost:27017\")\n",
    "\n",
    "# Select database and collection\n",
    "db = client[\"Nobel_Prices\"]        # your database name\n",
    "collection = db[\"awards\"]  # your collection name\n"
   ]
  },
  {
   "cell_type": "code",
   "execution_count": 29,
   "id": "b1a8f967-6061-4d98-b9e8-c37f80bf86f0",
   "metadata": {},
   "outputs": [],
   "source": [
    "import pandas as pd\n",
    "import altair as alt\n"
   ]
  },
  {
   "cell_type": "code",
   "execution_count": 30,
   "id": "e9176021-5b60-4dce-80d7-e268ca0295fe",
   "metadata": {},
   "outputs": [
    {
     "data": {
      "text/html": [
       "<div>\n",
       "<style scoped>\n",
       "    .dataframe tbody tr th:only-of-type {\n",
       "        vertical-align: middle;\n",
       "    }\n",
       "\n",
       "    .dataframe tbody tr th {\n",
       "        vertical-align: top;\n",
       "    }\n",
       "\n",
       "    .dataframe thead th {\n",
       "        text-align: right;\n",
       "    }\n",
       "</style>\n",
       "<table border=\"1\" class=\"dataframe\">\n",
       "  <thead>\n",
       "    <tr style=\"text-align: right;\">\n",
       "      <th></th>\n",
       "      <th>_id</th>\n",
       "      <th>count</th>\n",
       "    </tr>\n",
       "  </thead>\n",
       "  <tbody>\n",
       "    <tr>\n",
       "      <th>0</th>\n",
       "      <td>[Prussia (now Germany), the Netherlands, the N...</td>\n",
       "      <td>1</td>\n",
       "    </tr>\n",
       "  </tbody>\n",
       "</table>\n",
       "</div>"
      ],
      "text/plain": [
       "                                                 _id  count\n",
       "0  [Prussia (now Germany), the Netherlands, the N...      1"
      ]
     },
     "execution_count": 30,
     "metadata": {},
     "output_type": "execute_result"
    }
   ],
   "source": [
    "# Laureates by country of birth → shows which countries produced most laureates.\n",
    "\n",
    "pipeline = [\n",
    "    {\n",
    "        \"$group\": {\n",
    "            \"_id\": \"$laureates.bornCountry\",   # group by country of birth\n",
    "            \"count\": {\"$sum\": 1}\n",
    "        }\n",
    "    },\n",
    "    {\n",
    "        \"$sort\": {\"count\": -1}       # sort descending\n",
    "    }\n",
    "]\n",
    "\n",
    "result = list(collection.aggregate(pipeline))\n",
    "df_country = pd.DataFrame(result)\n",
    "df_country.head()\n"
   ]
  },
  {
   "cell_type": "code",
   "execution_count": 37,
   "id": "36fbf4de-edba-4990-a402-106bebb3246e",
   "metadata": {},
   "outputs": [
    {
     "data": {
      "text/html": [
       "\n",
       "<style>\n",
       "  #altair-viz-0679c6e463594e9d85a216bdd17439cf.vega-embed {\n",
       "    width: 100%;\n",
       "    display: flex;\n",
       "  }\n",
       "\n",
       "  #altair-viz-0679c6e463594e9d85a216bdd17439cf.vega-embed details,\n",
       "  #altair-viz-0679c6e463594e9d85a216bdd17439cf.vega-embed details summary {\n",
       "    position: relative;\n",
       "  }\n",
       "</style>\n",
       "<div id=\"altair-viz-0679c6e463594e9d85a216bdd17439cf\"></div>\n",
       "<script type=\"text/javascript\">\n",
       "  var VEGA_DEBUG = (typeof VEGA_DEBUG == \"undefined\") ? {} : VEGA_DEBUG;\n",
       "  (function(spec, embedOpt){\n",
       "    let outputDiv = document.currentScript.previousElementSibling;\n",
       "    if (outputDiv.id !== \"altair-viz-0679c6e463594e9d85a216bdd17439cf\") {\n",
       "      outputDiv = document.getElementById(\"altair-viz-0679c6e463594e9d85a216bdd17439cf\");\n",
       "    }\n",
       "\n",
       "    const paths = {\n",
       "      \"vega\": \"https://cdn.jsdelivr.net/npm/vega@5?noext\",\n",
       "      \"vega-lib\": \"https://cdn.jsdelivr.net/npm/vega-lib?noext\",\n",
       "      \"vega-lite\": \"https://cdn.jsdelivr.net/npm/vega-lite@5.20.1?noext\",\n",
       "      \"vega-embed\": \"https://cdn.jsdelivr.net/npm/vega-embed@6?noext\",\n",
       "    };\n",
       "\n",
       "    function maybeLoadScript(lib, version) {\n",
       "      var key = `${lib.replace(\"-\", \"\")}_version`;\n",
       "      return (VEGA_DEBUG[key] == version) ?\n",
       "        Promise.resolve(paths[lib]) :\n",
       "        new Promise(function(resolve, reject) {\n",
       "          var s = document.createElement('script');\n",
       "          document.getElementsByTagName(\"head\")[0].appendChild(s);\n",
       "          s.async = true;\n",
       "          s.onload = () => {\n",
       "            VEGA_DEBUG[key] = version;\n",
       "            return resolve(paths[lib]);\n",
       "          };\n",
       "          s.onerror = () => reject(`Error loading script: ${paths[lib]}`);\n",
       "          s.src = paths[lib];\n",
       "        });\n",
       "    }\n",
       "\n",
       "    function showError(err) {\n",
       "      outputDiv.innerHTML = `<div class=\"error\" style=\"color:red;\">${err}</div>`;\n",
       "      throw err;\n",
       "    }\n",
       "\n",
       "    function displayChart(vegaEmbed) {\n",
       "      vegaEmbed(outputDiv, spec, embedOpt)\n",
       "        .catch(err => showError(`Javascript Error: ${err.message}<br>This usually means there's a typo in your chart specification. See the javascript console for the full traceback.`));\n",
       "    }\n",
       "\n",
       "    if(typeof define === \"function\" && define.amd) {\n",
       "      requirejs.config({paths});\n",
       "      let deps = [\"vega-embed\"];\n",
       "      require(deps, displayChart, err => showError(`Error loading script: ${err.message}`));\n",
       "    } else {\n",
       "      maybeLoadScript(\"vega\", \"5\")\n",
       "        .then(() => maybeLoadScript(\"vega-lite\", \"5.20.1\"))\n",
       "        .then(() => maybeLoadScript(\"vega-embed\", \"6\"))\n",
       "        .catch(showError)\n",
       "        .then(() => displayChart(vegaEmbed));\n",
       "    }\n",
       "  })({\"config\": {\"view\": {\"continuousWidth\": 300, \"continuousHeight\": 300}}, \"data\": {\"name\": \"data-f5257ce79a0271c6f116a3d7830e184a\"}, \"mark\": {\"type\": \"bar\"}, \"encoding\": {\"color\": {\"field\": \"_id\", \"title\": \"Country Category\", \"type\": \"nominal\"}, \"tooltip\": [{\"field\": \"_id\", \"type\": \"nominal\"}, {\"field\": \"count\", \"type\": \"quantitative\"}], \"x\": {\"field\": \"_id\", \"sort\": \"-y\", \"title\": \"Country of Birth\", \"type\": \"nominal\"}, \"y\": {\"field\": \"count\", \"title\": \"Number of Laureates\", \"type\": \"quantitative\"}}, \"title\": \"Nobel Laureates by Country of Birth\", \"$schema\": \"https://vega.github.io/schema/vega-lite/v5.20.1.json\", \"datasets\": {\"data-f5257ce79a0271c6f116a3d7830e184a\": [{\"_id\": \"USA\", \"count\": 294}, {\"_id\": \"United Kingdom\", \"count\": 92}, {\"_id\": \"Germany\", \"count\": 67}, {\"_id\": \"France\", \"count\": 58}, {\"_id\": null, \"count\": 30}, {\"_id\": \"Sweden\", \"count\": 30}, {\"_id\": \"Japan\", \"count\": 28}, {\"_id\": \"Canada\", \"count\": 21}, {\"_id\": \"Switzerland\", \"count\": 19}, {\"_id\": \"the Netherlands\", \"count\": 19}, {\"_id\": \"Russia\", \"count\": 18}, {\"_id\": \"Italy\", \"count\": 18}, {\"_id\": \"Austria\", \"count\": 16}, {\"_id\": \"Norway\", \"count\": 13}, {\"_id\": \"Denmark\", \"count\": 12}, {\"_id\": \"Scotland\", \"count\": 11}, {\"_id\": \"China\", \"count\": 11}, {\"_id\": \"Australia\", \"count\": 10}, {\"_id\": \"Belgium\", \"count\": 9}, {\"_id\": \"South Africa\", \"count\": 9}, {\"_id\": \"India\", \"count\": 8}, {\"_id\": \"Hungary\", \"count\": 8}, {\"_id\": \"Germany (now Poland)\", \"count\": 8}, {\"_id\": \"Spain\", \"count\": 7}, {\"_id\": \"Prussia (now Poland)\", \"count\": 7}, {\"_id\": \"Egypt\", \"count\": 6}, {\"_id\": \"USSR (now Russia)\", \"count\": 6}, {\"_id\": \"Poland\", \"count\": 6}, {\"_id\": \"Ireland\", \"count\": 5}, {\"_id\": \"West Germany (now Germany)\", \"count\": 5}, {\"_id\": \"Prussia (now Germany)\", \"count\": 5}, {\"_id\": \"British Mandate of Palestine (now Israel)\", \"count\": 5}, {\"_id\": \"Northern Ireland\", \"count\": 5}, {\"_id\": \"Russian Empire (now Poland)\", \"count\": 4}, {\"_id\": \"Austria-Hungary (now Czech Republic)\", \"count\": 4}, {\"_id\": \"Romania\", \"count\": 4}, {\"_id\": \"Argentina\", \"count\": 4}, {\"_id\": \"Germany (now France)\", \"count\": 3}, {\"_id\": \"Turkey\", \"count\": 3}, {\"_id\": \"Russian Empire (now Finland)\", \"count\": 3}, {\"_id\": \"New Zealand\", \"count\": 3}, {\"_id\": \"Mexico\", \"count\": 3}, {\"_id\": \"Austria-Hungary (now Hungary)\", \"count\": 3}, {\"_id\": \"Finland\", \"count\": 2}, {\"_id\": \"Russian Empire (now Ukraine)\", \"count\": 2}, {\"_id\": \"Germany (now Russia)\", \"count\": 2}, {\"_id\": \"Schleswig (now Germany)\", \"count\": 2}, {\"_id\": \"Chile\", \"count\": 2}, {\"_id\": \"Colombia\", \"count\": 2}, {\"_id\": \"Russian Empire (now Russia)\", \"count\": 2}, {\"_id\": \"Iran\", \"count\": 2}, {\"_id\": \"French Algeria (now Algeria)\", \"count\": 2}, {\"_id\": \"Austrian Empire (now Austria)\", \"count\": 2}, {\"_id\": \"East Timor\", \"count\": 2}, {\"_id\": \"Russian Empire (now Belarus)\", \"count\": 2}, {\"_id\": \"Liberia\", \"count\": 2}, {\"_id\": \"Portugal\", \"count\": 2}, {\"_id\": \"Korea (now South Korea)\", \"count\": 2}, {\"_id\": \"India (now Pakistan)\", \"count\": 2}, {\"_id\": \"Luxembourg\", \"count\": 2}, {\"_id\": \"Guatemala\", \"count\": 2}, {\"_id\": \"Russian Empire (now Latvia)\", \"count\": 1}, {\"_id\": \"Russian Empire (now Azerbaijan)\", \"count\": 1}, {\"_id\": \"Peru\", \"count\": 1}, {\"_id\": \"Czechoslovakia (now Czech Republic)\", \"count\": 1}, {\"_id\": \"Madagascar\", \"count\": 1}, {\"_id\": \"Free City of Danzig (now Poland)\", \"count\": 1}, {\"_id\": \"Pakistan\", \"count\": 1}, {\"_id\": \"British Protectorate of Palestine (now Israel)\", \"count\": 1}, {\"_id\": \"Southern Rhodesia (now Zimbabwe)\", \"count\": 1}, {\"_id\": \"Yemen\", \"count\": 1}, {\"_id\": \"Poland (now Belarus)\", \"count\": 1}, {\"_id\": \"British India (now Bangladesh)\", \"count\": 1}, {\"_id\": \"Saint Lucia\", \"count\": 1}, {\"_id\": \"Iceland\", \"count\": 1}, {\"_id\": \"Lebanon\", \"count\": 1}, {\"_id\": \"Poland (now Lithuania)\", \"count\": 1}, {\"_id\": \"British West Indies (now Saint Lucia)\", \"count\": 1}, {\"_id\": \"Kenya\", \"count\": 1}, {\"_id\": \"Crete (now Greece)\", \"count\": 1}, {\"_id\": \"Austria-Hungary (now Bosnia and Herzegovina)\", \"count\": 1}, {\"_id\": \"Austrian Empire (now Italy)\", \"count\": 1}, {\"_id\": \"Hungary (now Slovakia)\", \"count\": 1}, {\"_id\": \"Venezuela\", \"count\": 1}, {\"_id\": \"USSR (now Belarus)\", \"count\": 1}, {\"_id\": \"Ukraine\", \"count\": 1}, {\"_id\": \"Austria-Hungary (now Poland)\", \"count\": 1}, {\"_id\": \"French protectorate of Tunisia (now Tunisia)\", \"count\": 1}, {\"_id\": \"Austria-Hungary (now Ukraine)\", \"count\": 1}, {\"_id\": \"Brazil\", \"count\": 1}, {\"_id\": \"Ottoman Empire (now Turkey)\", \"count\": 1}, {\"_id\": \"Belgian Congo (now Democratic Republic of the Congo)\", \"count\": 1}, {\"_id\": \"Costa Rica\", \"count\": 1}, {\"_id\": \"Bulgaria\", \"count\": 1}, {\"_id\": \"Austrian Empire (now Czech Republic)\", \"count\": 1}, {\"_id\": \"Poland (now Ukraine)\", \"count\": 1}, {\"_id\": \"Vietnam\", \"count\": 1}, {\"_id\": \"Mecklenburg (now Germany)\", \"count\": 1}, {\"_id\": \"Trinidad and Tobago\", \"count\": 1}, {\"_id\": \"Iraq\", \"count\": 1}, {\"_id\": \"South Korea\", \"count\": 1}, {\"_id\": \"Prussia (now Russia)\", \"count\": 1}, {\"_id\": \"Guadeloupe, France\", \"count\": 1}, {\"_id\": \"Lithuania\", \"count\": 1}, {\"_id\": \"Persia (now Iran)\", \"count\": 1}, {\"_id\": \"East Friesland (now Germany)\", \"count\": 1}, {\"_id\": \"German-occupied Poland (now Poland)\", \"count\": 1}, {\"_id\": \"Ottoman Empire (now North Macedonia)\", \"count\": 1}, {\"_id\": \"Hesse-Kassel (now Germany)\", \"count\": 1}, {\"_id\": \"W\\u00fcrttemberg (now Germany)\", \"count\": 1}, {\"_id\": \"Gold Coast (now Ghana)\", \"count\": 1}, {\"_id\": \"Tibet (now China)\", \"count\": 1}, {\"_id\": \"Faroe Islands (Denmark)\", \"count\": 1}, {\"_id\": \"Java, Dutch East Indies (now Indonesia)\", \"count\": 1}, {\"_id\": \"Austria-Hungary (now Croatia)\", \"count\": 1}, {\"_id\": \"Austria-Hungary (now Slovenia)\", \"count\": 1}, {\"_id\": \"Tuscany (now Italy)\", \"count\": 1}, {\"_id\": \"Burma (now Myanmar)\", \"count\": 1}, {\"_id\": \"Ethiopia\", \"count\": 1}, {\"_id\": \"Austria-Hungary (now Austria)\", \"count\": 1}, {\"_id\": \"Cyprus\", \"count\": 1}, {\"_id\": \"Nigeria\", \"count\": 1}, {\"_id\": \"Bavaria (now Germany)\", \"count\": 1}, {\"_id\": \"Philippines\", \"count\": 1}, {\"_id\": \"Taiwan\", \"count\": 1}, {\"_id\": \"Bosnia (now Bosnia and Herzegovina)\", \"count\": 1}, {\"_id\": \"Morocco\", \"count\": 1}, {\"_id\": \"Russian Empire (now Lithuania)\", \"count\": 1}, {\"_id\": \"British India (now India)\", \"count\": 1}]}}, {\"mode\": \"vega-lite\"});\n",
       "</script>"
      ],
      "text/plain": [
       "alt.Chart(...)"
      ]
     },
     "execution_count": 37,
     "metadata": {},
     "output_type": "execute_result"
    }
   ],
   "source": [
    "# VISUALISED CHART FROM ALTAIR\n",
    "\n",
    "chart_country = alt.Chart(df_country).mark_bar().encode(\n",
    "    x=alt.X('_id', sort='-y', title='Country of Birth'),\n",
    "    y=alt.Y('count', title='Number of Laureates'),\n",
    "    color=alt.Color('_id', title='Country Category'),\n",
    "    tooltip=['_id', 'count']\n",
    ").properties(\n",
    "    title='Nobel Laureates by Country of Birth'\n",
    ")\n",
    "chart_country\n"
   ]
  },
  {
   "cell_type": "code",
   "execution_count": 32,
   "id": "bfd7f3c7-0c40-497c-9b15-f301bee26d54",
   "metadata": {},
   "outputs": [
    {
     "data": {
      "text/html": [
       "<div>\n",
       "<style scoped>\n",
       "    .dataframe tbody tr th:only-of-type {\n",
       "        vertical-align: middle;\n",
       "    }\n",
       "\n",
       "    .dataframe tbody tr th {\n",
       "        vertical-align: top;\n",
       "    }\n",
       "\n",
       "    .dataframe thead th {\n",
       "        text-align: right;\n",
       "    }\n",
       "</style>\n",
       "<table border=\"1\" class=\"dataframe\">\n",
       "  <thead>\n",
       "    <tr style=\"text-align: right;\">\n",
       "      <th></th>\n",
       "      <th>_id</th>\n",
       "      <th>count</th>\n",
       "    </tr>\n",
       "  </thead>\n",
       "  <tbody>\n",
       "    <tr>\n",
       "      <th>0</th>\n",
       "      <td>[[physics], [physics], [physics], [physics], [...</td>\n",
       "      <td>1</td>\n",
       "    </tr>\n",
       "  </tbody>\n",
       "</table>\n",
       "</div>"
      ],
      "text/plain": [
       "                                                 _id  count\n",
       "0  [[physics], [physics], [physics], [physics], [...      1"
      ]
     },
     "execution_count": 32,
     "metadata": {},
     "output_type": "execute_result"
    }
   ],
   "source": [
    "# Total prizes by category → shows distribution across Physics, Chemistry, etc.\n",
    "pipeline = [\n",
    "    {\n",
    "        \"$group\": {\n",
    "            \"_id\": \"$laureates.prizes.category\",\n",
    "            \"count\": {\"$sum\": 1}\n",
    "        }\n",
    "    },\n",
    "    {\"$sort\": {\"count\": -1}}\n",
    "]\n",
    "\n",
    "result = list(collection.aggregate(pipeline))\n",
    "df_category = pd.DataFrame(result)\n",
    "df_category.head()\n",
    "\n",
    "\n"
   ]
  },
  {
   "cell_type": "code",
   "execution_count": 33,
   "id": "9840fcf1-a46a-4f9f-bed1-683b0bf3c32d",
   "metadata": {},
   "outputs": [
    {
     "name": "stdout",
     "output_type": "stream",
     "text": [
      "          _id  count\n",
      "0    medicine    229\n",
      "1     physics    227\n",
      "2   chemistry    197\n",
      "3       peace    142\n",
      "4  literature    121\n"
     ]
    }
   ],
   "source": [
    "pipeline = [\n",
    "    {\"$unwind\": \"$laureates\"},              # Unwind laureates array first\n",
    "    {\"$unwind\": \"$laureates.prizes\"},       # Then unwind prizes for each laureate\n",
    "    {\"$group\": {\n",
    "        \"_id\": \"$laureates.prizes.category\",\n",
    "        \"count\": {\"$sum\": 1}\n",
    "    }},\n",
    "    {\"$sort\": {\"count\": -1}}\n",
    "]\n",
    "\n",
    "result = list(collection.aggregate(pipeline))\n",
    "df_category = pd.DataFrame(result)\n",
    "print(df_category.head())\n",
    "\n"
   ]
  },
  {
   "cell_type": "code",
   "execution_count": 34,
   "id": "214444f0-bc5e-4f10-bae0-3ca234bb2706",
   "metadata": {},
   "outputs": [
    {
     "data": {
      "text/html": [
       "\n",
       "<style>\n",
       "  #altair-viz-4e9265930ebf451ea6571412908a835b.vega-embed {\n",
       "    width: 100%;\n",
       "    display: flex;\n",
       "  }\n",
       "\n",
       "  #altair-viz-4e9265930ebf451ea6571412908a835b.vega-embed details,\n",
       "  #altair-viz-4e9265930ebf451ea6571412908a835b.vega-embed details summary {\n",
       "    position: relative;\n",
       "  }\n",
       "</style>\n",
       "<div id=\"altair-viz-4e9265930ebf451ea6571412908a835b\"></div>\n",
       "<script type=\"text/javascript\">\n",
       "  var VEGA_DEBUG = (typeof VEGA_DEBUG == \"undefined\") ? {} : VEGA_DEBUG;\n",
       "  (function(spec, embedOpt){\n",
       "    let outputDiv = document.currentScript.previousElementSibling;\n",
       "    if (outputDiv.id !== \"altair-viz-4e9265930ebf451ea6571412908a835b\") {\n",
       "      outputDiv = document.getElementById(\"altair-viz-4e9265930ebf451ea6571412908a835b\");\n",
       "    }\n",
       "\n",
       "    const paths = {\n",
       "      \"vega\": \"https://cdn.jsdelivr.net/npm/vega@5?noext\",\n",
       "      \"vega-lib\": \"https://cdn.jsdelivr.net/npm/vega-lib?noext\",\n",
       "      \"vega-lite\": \"https://cdn.jsdelivr.net/npm/vega-lite@5.20.1?noext\",\n",
       "      \"vega-embed\": \"https://cdn.jsdelivr.net/npm/vega-embed@6?noext\",\n",
       "    };\n",
       "\n",
       "    function maybeLoadScript(lib, version) {\n",
       "      var key = `${lib.replace(\"-\", \"\")}_version`;\n",
       "      return (VEGA_DEBUG[key] == version) ?\n",
       "        Promise.resolve(paths[lib]) :\n",
       "        new Promise(function(resolve, reject) {\n",
       "          var s = document.createElement('script');\n",
       "          document.getElementsByTagName(\"head\")[0].appendChild(s);\n",
       "          s.async = true;\n",
       "          s.onload = () => {\n",
       "            VEGA_DEBUG[key] = version;\n",
       "            return resolve(paths[lib]);\n",
       "          };\n",
       "          s.onerror = () => reject(`Error loading script: ${paths[lib]}`);\n",
       "          s.src = paths[lib];\n",
       "        });\n",
       "    }\n",
       "\n",
       "    function showError(err) {\n",
       "      outputDiv.innerHTML = `<div class=\"error\" style=\"color:red;\">${err}</div>`;\n",
       "      throw err;\n",
       "    }\n",
       "\n",
       "    function displayChart(vegaEmbed) {\n",
       "      vegaEmbed(outputDiv, spec, embedOpt)\n",
       "        .catch(err => showError(`Javascript Error: ${err.message}<br>This usually means there's a typo in your chart specification. See the javascript console for the full traceback.`));\n",
       "    }\n",
       "\n",
       "    if(typeof define === \"function\" && define.amd) {\n",
       "      requirejs.config({paths});\n",
       "      let deps = [\"vega-embed\"];\n",
       "      require(deps, displayChart, err => showError(`Error loading script: ${err.message}`));\n",
       "    } else {\n",
       "      maybeLoadScript(\"vega\", \"5\")\n",
       "        .then(() => maybeLoadScript(\"vega-lite\", \"5.20.1\"))\n",
       "        .then(() => maybeLoadScript(\"vega-embed\", \"6\"))\n",
       "        .catch(showError)\n",
       "        .then(() => displayChart(vegaEmbed));\n",
       "    }\n",
       "  })({\"config\": {\"view\": {\"continuousWidth\": 300, \"continuousHeight\": 300}}, \"data\": {\"name\": \"data-96c74e5204e51eb90882ecc58579ed4a\"}, \"mark\": {\"type\": \"bar\"}, \"encoding\": {\"color\": {\"field\": \"_id\", \"title\": \"Prize Category\", \"type\": \"nominal\"}, \"tooltip\": [{\"field\": \"_id\", \"type\": \"nominal\"}, {\"field\": \"count\", \"type\": \"quantitative\"}], \"x\": {\"field\": \"_id\", \"sort\": \"-y\", \"title\": \"Category\", \"type\": \"nominal\"}, \"y\": {\"field\": \"count\", \"title\": \"Number of Prizes\", \"type\": \"quantitative\"}}, \"title\": \"Total Nobel Prizes by Category\", \"$schema\": \"https://vega.github.io/schema/vega-lite/v5.20.1.json\", \"datasets\": {\"data-96c74e5204e51eb90882ecc58579ed4a\": [{\"_id\": \"medicine\", \"count\": 229}, {\"_id\": \"physics\", \"count\": 227}, {\"_id\": \"chemistry\", \"count\": 197}, {\"_id\": \"peace\", \"count\": 142}, {\"_id\": \"literature\", \"count\": 121}, {\"_id\": \"economics\", \"count\": 96}]}}, {\"mode\": \"vega-lite\"});\n",
       "</script>"
      ],
      "text/plain": [
       "alt.Chart(...)"
      ]
     },
     "execution_count": 34,
     "metadata": {},
     "output_type": "execute_result"
    }
   ],
   "source": [
    "chart_category = alt.Chart(df_category).mark_bar().encode(\n",
    "    x=alt.X('_id', sort='-y', title='Category'),\n",
    "    y=alt.Y('count', title='Number of Prizes'),\n",
    "    color=alt.Color('_id', title='Prize Category'),\n",
    "    tooltip=['_id', 'count']\n",
    ").properties(\n",
    "    title='Total Nobel Prizes by Category'\n",
    ")\n",
    "chart_category\n"
   ]
  },
  {
   "cell_type": "code",
   "execution_count": null,
   "id": "2eb17297-9f1f-4b4b-9bc5-da2a836fbd99",
   "metadata": {},
   "outputs": [],
   "source": []
  },
  {
   "cell_type": "code",
   "execution_count": null,
   "id": "8d2d7b1c-12bd-4fb3-90a8-12bca008a3c6",
   "metadata": {},
   "outputs": [],
   "source": []
  }
 ],
 "metadata": {
  "kernelspec": {
   "display_name": "Python [conda env:base] *",
   "language": "python",
   "name": "conda-base-py"
  },
  "language_info": {
   "codemirror_mode": {
    "name": "ipython",
    "version": 3
   },
   "file_extension": ".py",
   "mimetype": "text/x-python",
   "name": "python",
   "nbconvert_exporter": "python",
   "pygments_lexer": "ipython3",
   "version": "3.13.5"
  }
 },
 "nbformat": 4,
 "nbformat_minor": 5
}
