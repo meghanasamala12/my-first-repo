{
 "cells": [
  {
   "cell_type": "raw",
   "id": "9465a1f6-aa04-45a6-ae24-63791e578ba3",
   "metadata": {},
   "source": [
    "READING AND WRITING FILES WITH JSON"
   ]
  },
  {
   "cell_type": "raw",
   "id": "9770290e-6065-4360-b54a-a6e77027e21e",
   "metadata": {},
   "source": [
    "Name : Meghana Samala\n",
    "Id : 163848\n",
    "CLASSWORK"
   ]
  },
  {
   "cell_type": "code",
   "execution_count": 1,
   "id": "fbb1b289-e3e3-40a2-b033-beaa6f4ceee3",
   "metadata": {},
   "outputs": [
    {
     "name": "stdout",
     "output_type": "stream",
     "text": [
      "Collecting faker\n",
      "  Downloading faker-37.6.0-py3-none-any.whl.metadata (15 kB)\n",
      "Requirement already satisfied: tzdata in /opt/anaconda3/lib/python3.13/site-packages (from faker) (2025.2)\n",
      "Downloading faker-37.6.0-py3-none-any.whl (1.9 MB)\n",
      "\u001b[2K   \u001b[90m━━━━━━━━━━━━━━━━━━━━━━━━━━━━━━━━━━━━━━━━\u001b[0m \u001b[32m1.9/1.9 MB\u001b[0m \u001b[31m38.5 MB/s\u001b[0m  \u001b[33m0:00:00\u001b[0m\n",
      "Installing collected packages: faker\n",
      "Successfully installed faker-37.6.0\n",
      "Note: you may need to restart the kernel to use updated packages.\n"
     ]
    }
   ],
   "source": [
    "pip install faker"
   ]
  },
  {
   "cell_type": "code",
   "execution_count": 2,
   "id": "05f94066-6667-4d25-92f1-94cd6034f5c7",
   "metadata": {},
   "outputs": [],
   "source": [
    "from faker import Faker\n",
    "import csv\n",
    "\n",
    "fake = Faker()\n",
    "\n",
    "header = ['name','age','street','city','state','zip','lng','lat']\n",
    "\n",
    "with open('data.CSV', 'w', newline='', encoding='utf-8') as output:\n",
    "    mywriter = csv.writer(output)\n",
    "    mywriter.writerow(header)\n",
    "\n",
    "    for r in range(10):\n",
    "        mywriter.writerow([\n",
    "            fake.name(),\n",
    "            fake.random_int(min=18, max=80, step=1),\n",
    "            fake.street_address(),\n",
    "            fake.city(),\n",
    "            fake.state(),\n",
    "            fake.zipcode(),\n",
    "            fake.longitude(),\n",
    "            fake.latitude()\n",
    "        ])\n"
   ]
  },
  {
   "cell_type": "code",
   "execution_count": 3,
   "id": "519944ef-9dca-4c16-b098-cef8066e52aa",
   "metadata": {},
   "outputs": [
    {
     "name": "stdout",
     "output_type": "stream",
     "text": [
      "                    name  age                           street  \\\n",
      "0  Mrs. Elaine Smith DVM   79      468 Wright Meadows Apt. 361   \n",
      "1        Samantha Reeves   36               144 Elizabeth Club   \n",
      "2           Sarah Hooper   66     3283 Maria Crescent Apt. 601   \n",
      "3            Jason Perry   43     3045 Andrea Forest Suite 688   \n",
      "4            Dawn Gentry   41                 991 Greer Meadow   \n",
      "5         Victoria Moore   75       37333 Patel Cliff Apt. 081   \n",
      "6      Patricia Anderson   78      58018 Jacob Knolls Apt. 659   \n",
      "7       Brittney Johnson   30                82452 Sean Meadow   \n",
      "8             Lance Cook   36          2525 Jake Fork Apt. 910   \n",
      "9        Dr. Robert Neal   60  167 Christopher Fields Apt. 333   \n",
      "\n",
      "              city           state    zip         lng        lat  \n",
      "0      Port Alicia            Utah  29454  -41.771679   8.420680  \n",
      "1    New Soniafurt          Oregon  12789  104.225435 -27.026062  \n",
      "2   Lake Susanfurt        Missouri  89952  -51.242919  40.173169  \n",
      "3  South Bruceberg  North Carolina  33817   43.074304  84.988703  \n",
      "4      Thomasshire       Wisconsin  53314  -73.325520 -57.019576  \n",
      "5       Fullertown        New York  71282  124.273858  82.433769  \n",
      "6          New Amy            Ohio  95173  145.701771  43.797518  \n",
      "7       Murphystad           Idaho  86703  -99.600043  52.531728  \n",
      "8  East Danielport      Washington  49226 -161.727036 -88.119326  \n",
      "9  South Stephanie          Oregon  55182  105.092261  54.090794  \n"
     ]
    }
   ],
   "source": [
    "import pandas as pd\n",
    "df=pd.read_csv(\"data.CSV\")\n",
    "print(df)"
   ]
  },
  {
   "cell_type": "code",
   "execution_count": 4,
   "id": "afddbaa5-93e0-4eea-90df-619d4de90d7b",
   "metadata": {},
   "outputs": [
    {
     "name": "stdout",
     "output_type": "stream",
     "text": [
      "['name', 'age', 'street', 'city', 'state', 'zip', 'lng', 'lat']\n",
      "['Mrs. Elaine Smith DVM', '79', '468 Wright Meadows Apt. 361', 'Port Alicia', 'Utah', '29454', '-41.771679', '8.4206795']\n",
      "['Samantha Reeves', '36', '144 Elizabeth Club', 'New Soniafurt', 'Oregon', '12789', '104.225435', '-27.0260625']\n",
      "['Sarah Hooper', '66', '3283 Maria Crescent Apt. 601', 'Lake Susanfurt', 'Missouri', '89952', '-51.242919', '40.1731685']\n",
      "['Jason Perry', '43', '3045 Andrea Forest Suite 688', 'South Bruceberg', 'North Carolina', '33817', '43.074304', '84.988703']\n",
      "['Dawn Gentry', '41', '991 Greer Meadow', 'Thomasshire', 'Wisconsin', '53314', '-73.325520', '-57.019576']\n",
      "['Victoria Moore', '75', '37333 Patel Cliff Apt. 081', 'Fullertown', 'New York', '71282', '124.273858', '82.433769']\n",
      "['Patricia Anderson', '78', '58018 Jacob Knolls Apt. 659', 'New Amy', 'Ohio', '95173', '145.701771', '43.797518']\n",
      "['Brittney Johnson', '30', '82452 Sean Meadow', 'Murphystad', 'Idaho', '86703', '-99.600043', '52.5317285']\n",
      "['Lance Cook', '36', '2525 Jake Fork Apt. 910', 'East Danielport', 'Washington', '49226', '-161.727036', '-88.119326']\n",
      "['Dr. Robert Neal', '60', '167 Christopher Fields Apt. 333', 'South Stephanie', 'Oregon', '55182', '105.092261', '54.090794']\n"
     ]
    }
   ],
   "source": [
    "with open(\"data.CSV\", \"r\", encoding=\"utf-8\") as f:\n",
    "    reader = csv.reader(f)\n",
    "    for row in reader:\n",
    "        print(row)\n"
   ]
  },
  {
   "cell_type": "code",
   "execution_count": 5,
   "id": "704d7f9d-6f13-451e-ae1f-58c904041151",
   "metadata": {},
   "outputs": [],
   "source": [
    "\n",
    "from faker import Faker\n",
    "import json\n",
    "\n",
    "output = open('data.JSON', 'w')\n",
    "\n",
    "fake = Faker()\n",
    "alldata = {}\n",
    "alldata['records'] = []"
   ]
  },
  {
   "cell_type": "code",
   "execution_count": 7,
   "id": "3e134a7a-7fa5-4e4a-8d04-95e44140e958",
   "metadata": {},
   "outputs": [
    {
     "name": "stdout",
     "output_type": "stream",
     "text": [
      "{'records': [{'name': 'Patty Stevens', 'age': 20, 'street': '6129 Deanna Parkway', 'city': 'New Barbarachester', 'state': 'Georgia', 'zip': '46417', 'lng': -156.112402, 'lat': -47.339187}, {'name': 'James Duarte', 'age': 46, 'street': '0175 Edward Roads', 'city': 'New Krystalside', 'state': 'Washington', 'zip': '86578', 'lng': -157.143362, 'lat': 61.2428575}, {'name': 'Kimberly Hensley', 'age': 38, 'street': '84787 Brandon Grove Suite 262', 'city': 'Aguilarview', 'state': 'Nebraska', 'zip': '63923', 'lng': -135.065785, 'lat': 9.2878195}, {'name': 'Doris Branch', 'age': 28, 'street': '0950 Harris Rapid', 'city': 'Stokesmouth', 'state': 'California', 'zip': '28941', 'lng': 139.510593, 'lat': 11.1569285}, {'name': 'William Little', 'age': 37, 'street': '427 Sharon Rapids', 'city': 'Adamsmouth', 'state': 'Oklahoma', 'zip': '29144', 'lng': 95.098756, 'lat': -81.755863}, {'name': 'Ashley Humphrey', 'age': 24, 'street': '5832 Debra Mall', 'city': 'South Christopher', 'state': 'Wyoming', 'zip': '44303', 'lng': 119.09402, 'lat': -71.802211}, {'name': 'Heather Conrad', 'age': 80, 'street': '5855 Ethan Springs', 'city': 'Crystalmouth', 'state': 'Minnesota', 'zip': '30615', 'lng': -97.668588, 'lat': 62.664458}, {'name': 'Alexandra Stephenson', 'age': 60, 'street': '5976 Gonzales Greens Suite 780', 'city': 'Danielmouth', 'state': 'Arkansas', 'zip': '05077', 'lng': 56.182352, 'lat': 3.8563385}, {'name': 'Suzanne Ali', 'age': 18, 'street': '9308 Linda Road', 'city': 'New Ashlee', 'state': 'Iowa', 'zip': '86955', 'lng': 47.115933, 'lat': -39.492098}, {'name': 'Kimberly Reynolds', 'age': 59, 'street': '390 Garcia Meadows Suite 021', 'city': 'Paulaburgh', 'state': 'Virginia', 'zip': '15045', 'lng': -93.060102, 'lat': -39.744227}, {'name': 'Bianca Conrad', 'age': 45, 'street': '6834 Lisa Unions Apt. 622', 'city': 'West Robertstad', 'state': 'Vermont', 'zip': '52205', 'lng': -167.068973, 'lat': 72.4800225}, {'name': 'Amanda Rice', 'age': 65, 'street': '78027 Henderson Freeway', 'city': 'Kylebury', 'state': 'Alaska', 'zip': '17105', 'lng': -29.130553, 'lat': 25.056716}, {'name': 'Mary Leonard DVM', 'age': 74, 'street': '04830 Elizabeth Centers Suite 605', 'city': 'Sheilaville', 'state': 'South Dakota', 'zip': '53515', 'lng': 123.531268, 'lat': 24.423438}, {'name': 'Edward Watson', 'age': 53, 'street': '477 Parks Heights Apt. 773', 'city': 'East Jose', 'state': 'Nevada', 'zip': '43999', 'lng': 167.076035, 'lat': -26.040775}, {'name': 'Omar Ward', 'age': 40, 'street': '242 Lisa Key Apt. 901', 'city': 'South Debbie', 'state': 'Massachusetts', 'zip': '43544', 'lng': -120.391582, 'lat': -2.769076}, {'name': 'Max Davis', 'age': 80, 'street': '8162 Cantu Vista Apt. 756', 'city': 'Port Shawn', 'state': 'North Carolina', 'zip': '28084', 'lng': -118.006446, 'lat': -36.370344}, {'name': 'Katrina Shah', 'age': 42, 'street': '03417 Walter Courts', 'city': 'Howellburgh', 'state': 'Michigan', 'zip': '51469', 'lng': -117.493691, 'lat': -87.6959285}, {'name': 'Eric Miller', 'age': 59, 'street': '95885 Carmen Corner', 'city': 'Lake Shelby', 'state': 'Arkansas', 'zip': '41433', 'lng': 61.453059, 'lat': -69.9238855}, {'name': 'Tyler Ibarra', 'age': 79, 'street': '07350 Beverly Drives Suite 465', 'city': 'Markview', 'state': 'Pennsylvania', 'zip': '76744', 'lng': -172.77272, 'lat': -34.1332255}, {'name': 'Robin Freeman', 'age': 47, 'street': '12362 Yvette Fork', 'city': 'Mosleymouth', 'state': 'Minnesota', 'zip': '48312', 'lng': -109.652395, 'lat': -7.3297195}]}\n"
     ]
    }
   ],
   "source": [
    "for x in range(10):\n",
    "    data = {\n",
    "        \"name\": fake.name(),\n",
    "        \"age\": fake.random_int(min=18, max=80, step=1),\n",
    "        \"street\": fake.street_address(),\n",
    "        \"city\": fake.city(),\n",
    "        \"state\": fake.state(),\n",
    "        \"zip\": fake.zipcode(),\n",
    "        \"lng\": float(fake.longitude()),\n",
    "        \"lat\": float(fake.latitude())\n",
    "    }\n",
    "    alldata['records'].append(data)\n",
    "print(alldata)"
   ]
  },
  {
   "cell_type": "code",
   "execution_count": 8,
   "id": "3cf1115a-1956-4b85-9d5c-ba65415d1e4c",
   "metadata": {},
   "outputs": [
    {
     "name": "stdout",
     "output_type": "stream",
     "text": [
      "{'name': 'Patty Stevens', 'age': 20, 'street': '6129 Deanna Parkway', 'city': 'New Barbarachester', 'state': 'Georgia', 'zip': '46417', 'lng': -156.112402, 'lat': -47.339187}\n"
     ]
    }
   ],
   "source": [
    "import json\n",
    "# Save data\n",
    "with open(\"data.JSON\", \"w\") as output:\n",
    "    json.dump(alldata, output, indent=4)\n",
    "\n",
    "# Read data back\n",
    "with open(\"data.JSON\", \"r\") as f:\n",
    "    data = json.load(f)\n",
    "    print(data['records'][0])   # Example: first record"
   ]
  },
  {
   "cell_type": "code",
   "execution_count": 9,
   "id": "117313fa-29c3-4fbf-b8fe-463a94d2c752",
   "metadata": {},
   "outputs": [],
   "source": [
    "import pandas.io.json as pd_JSON"
   ]
  },
  {
   "cell_type": "code",
   "execution_count": 10,
   "id": "26f10e51-d948-488d-83b5-8bb64a153450",
   "metadata": {},
   "outputs": [],
   "source": [
    "f=open('data.JSON','r')\n",
    "from pandas import json_normalize"
   ]
  },
  {
   "cell_type": "code",
   "execution_count": 11,
   "id": "88de76e7-8839-4374-9dd7-060b51170661",
   "metadata": {},
   "outputs": [
    {
     "name": "stdout",
     "output_type": "stream",
     "text": [
      "               name  age                         street                city  \\\n",
      "0     Patty Stevens   20            6129 Deanna Parkway  New Barbarachester   \n",
      "1      James Duarte   46              0175 Edward Roads     New Krystalside   \n",
      "2  Kimberly Hensley   38  84787 Brandon Grove Suite 262         Aguilarview   \n",
      "3      Doris Branch   28              0950 Harris Rapid         Stokesmouth   \n",
      "4    William Little   37              427 Sharon Rapids          Adamsmouth   \n",
      "\n",
      "        state    zip         lng        lat  \n",
      "0     Georgia  46417 -156.112402 -47.339187  \n",
      "1  Washington  86578 -157.143362  61.242857  \n",
      "2    Nebraska  63923 -135.065785   9.287819  \n",
      "3  California  28941  139.510593  11.156928  \n",
      "4    Oklahoma  29144   95.098756 -81.755863  \n"
     ]
    }
   ],
   "source": [
    "import pandas as pd\n",
    "import json\n",
    "\n",
    "# Load JSON\n",
    "with open(\"data.JSON\", \"r\") as f:\n",
    "    data = json.load(f)\n",
    "\n",
    "# Normalize into a DataFrame\n",
    "df = pd.json_normalize(data['records'])\n",
    "\n",
    "print(df.head())\n"
   ]
  },
  {
   "cell_type": "code",
   "execution_count": 12,
   "id": "6177ff6a-3426-43ea-b7e5-0873433800ca",
   "metadata": {},
   "outputs": [
    {
     "data": {
      "text/plain": [
       "'{\"name\":{\"0\":\"Patty Stevens\",\"1\":\"James Duarte\"},\"age\":{\"0\":20,\"1\":46},\"street\":{\"0\":\"6129 Deanna Parkway\",\"1\":\"0175 Edward Roads\"},\"city\":{\"0\":\"New Barbarachester\",\"1\":\"New Krystalside\"},\"state\":{\"0\":\"Georgia\",\"1\":\"Washington\"},\"zip\":{\"0\":\"46417\",\"1\":\"86578\"},\"lng\":{\"0\":-156.112402,\"1\":-157.143362},\"lat\":{\"0\":-47.339187,\"1\":61.2428575}}'"
      ]
     },
     "execution_count": 12,
     "metadata": {},
     "output_type": "execute_result"
    }
   ],
   "source": [
    "df.head(2).to_json()"
   ]
  },
  {
   "cell_type": "code",
   "execution_count": 13,
   "id": "6b8bda5e-6bd8-4c16-b311-ee609d62bd9a",
   "metadata": {},
   "outputs": [
    {
     "data": {
      "text/plain": [
       "'[{\"name\":\"Patty Stevens\",\"age\":20,\"street\":\"6129 Deanna Parkway\",\"city\":\"New Barbarachester\",\"state\":\"Georgia\",\"zip\":\"46417\",\"lng\":-156.112402,\"lat\":-47.339187},{\"name\":\"James Duarte\",\"age\":46,\"street\":\"0175 Edward Roads\",\"city\":\"New Krystalside\",\"state\":\"Washington\",\"zip\":\"86578\",\"lng\":-157.143362,\"lat\":61.2428575}]'"
      ]
     },
     "execution_count": 13,
     "metadata": {},
     "output_type": "execute_result"
    }
   ],
   "source": [
    "df.head(2).to_json(orient='records')"
   ]
  },
  {
   "cell_type": "code",
   "execution_count": null,
   "id": "a4011b79-db19-4a0a-a6a9-a89085ad6470",
   "metadata": {},
   "outputs": [],
   "source": []
  }
 ],
 "metadata": {
  "kernelspec": {
   "display_name": "Python [conda env:base] *",
   "language": "python",
   "name": "conda-base-py"
  },
  "language_info": {
   "codemirror_mode": {
    "name": "ipython",
    "version": 3
   },
   "file_extension": ".py",
   "mimetype": "text/x-python",
   "name": "python",
   "nbconvert_exporter": "python",
   "pygments_lexer": "ipython3",
   "version": "3.13.5"
  }
 },
 "nbformat": 4,
 "nbformat_minor": 5
}
