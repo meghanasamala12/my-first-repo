{
 "cells": [
  {
   "cell_type": "raw",
   "id": "0c70fc67-b070-4158-9707-e4ae21859925",
   "metadata": {},
   "source": [
    "ETL(Extract Transform Load)"
   ]
  },
  {
   "cell_type": "code",
   "execution_count": 1,
   "id": "0c7c4c57-e5d8-4677-89e0-0d0384e692a1",
   "metadata": {},
   "outputs": [
    {
     "name": "stdout",
     "output_type": "stream",
     "text": [
      "Requirement already satisfied: seaborn in /opt/anaconda3/lib/python3.13/site-packages (0.13.2)\n",
      "Requirement already satisfied: numpy!=1.24.0,>=1.20 in /opt/anaconda3/lib/python3.13/site-packages (from seaborn) (2.1.3)\n",
      "Requirement already satisfied: pandas>=1.2 in /opt/anaconda3/lib/python3.13/site-packages (from seaborn) (2.2.3)\n",
      "Requirement already satisfied: matplotlib!=3.6.1,>=3.4 in /opt/anaconda3/lib/python3.13/site-packages (from seaborn) (3.10.0)\n",
      "Requirement already satisfied: contourpy>=1.0.1 in /opt/anaconda3/lib/python3.13/site-packages (from matplotlib!=3.6.1,>=3.4->seaborn) (1.3.1)\n",
      "Requirement already satisfied: cycler>=0.10 in /opt/anaconda3/lib/python3.13/site-packages (from matplotlib!=3.6.1,>=3.4->seaborn) (0.11.0)\n",
      "Requirement already satisfied: fonttools>=4.22.0 in /opt/anaconda3/lib/python3.13/site-packages (from matplotlib!=3.6.1,>=3.4->seaborn) (4.55.3)\n",
      "Requirement already satisfied: kiwisolver>=1.3.1 in /opt/anaconda3/lib/python3.13/site-packages (from matplotlib!=3.6.1,>=3.4->seaborn) (1.4.8)\n",
      "Requirement already satisfied: packaging>=20.0 in /opt/anaconda3/lib/python3.13/site-packages (from matplotlib!=3.6.1,>=3.4->seaborn) (24.2)\n",
      "Requirement already satisfied: pillow>=8 in /opt/anaconda3/lib/python3.13/site-packages (from matplotlib!=3.6.1,>=3.4->seaborn) (11.1.0)\n",
      "Requirement already satisfied: pyparsing>=2.3.1 in /opt/anaconda3/lib/python3.13/site-packages (from matplotlib!=3.6.1,>=3.4->seaborn) (3.2.0)\n",
      "Requirement already satisfied: python-dateutil>=2.7 in /opt/anaconda3/lib/python3.13/site-packages (from matplotlib!=3.6.1,>=3.4->seaborn) (2.9.0.post0)\n",
      "Requirement already satisfied: pytz>=2020.1 in /opt/anaconda3/lib/python3.13/site-packages (from pandas>=1.2->seaborn) (2024.1)\n",
      "Requirement already satisfied: tzdata>=2022.7 in /opt/anaconda3/lib/python3.13/site-packages (from pandas>=1.2->seaborn) (2025.2)\n",
      "Requirement already satisfied: six>=1.5 in /opt/anaconda3/lib/python3.13/site-packages (from python-dateutil>=2.7->matplotlib!=3.6.1,>=3.4->seaborn) (1.17.0)\n",
      "Note: you may need to restart the kernel to use updated packages.\n"
     ]
    }
   ],
   "source": [
    "pip install seaborn"
   ]
  },
  {
   "cell_type": "code",
   "execution_count": 2,
   "id": "a2115f5e-65ae-437c-88b2-3d9a6fa8ff6c",
   "metadata": {},
   "outputs": [
    {
     "name": "stdout",
     "output_type": "stream",
     "text": [
      "Requirement already satisfied: pip in /opt/anaconda3/lib/python3.13/site-packages (25.2)\n",
      "Note: you may need to restart the kernel to use updated packages.\n"
     ]
    }
   ],
   "source": [
    "pip install --upgrade pip"
   ]
  },
  {
   "cell_type": "code",
   "execution_count": 3,
   "id": "5e8920c2-70e7-48cf-afd9-8df6ed630132",
   "metadata": {},
   "outputs": [
    {
     "name": "stdout",
     "output_type": "stream",
     "text": [
      "Requirement already satisfied: seaborn in /opt/anaconda3/lib/python3.13/site-packages (0.13.2)\n",
      "Requirement already satisfied: numpy!=1.24.0,>=1.20 in /opt/anaconda3/lib/python3.13/site-packages (from seaborn) (2.1.3)\n",
      "Requirement already satisfied: pandas>=1.2 in /opt/anaconda3/lib/python3.13/site-packages (from seaborn) (2.2.3)\n",
      "Requirement already satisfied: matplotlib!=3.6.1,>=3.4 in /opt/anaconda3/lib/python3.13/site-packages (from seaborn) (3.10.0)\n",
      "Requirement already satisfied: contourpy>=1.0.1 in /opt/anaconda3/lib/python3.13/site-packages (from matplotlib!=3.6.1,>=3.4->seaborn) (1.3.1)\n",
      "Requirement already satisfied: cycler>=0.10 in /opt/anaconda3/lib/python3.13/site-packages (from matplotlib!=3.6.1,>=3.4->seaborn) (0.11.0)\n",
      "Requirement already satisfied: fonttools>=4.22.0 in /opt/anaconda3/lib/python3.13/site-packages (from matplotlib!=3.6.1,>=3.4->seaborn) (4.55.3)\n",
      "Requirement already satisfied: kiwisolver>=1.3.1 in /opt/anaconda3/lib/python3.13/site-packages (from matplotlib!=3.6.1,>=3.4->seaborn) (1.4.8)\n",
      "Requirement already satisfied: packaging>=20.0 in /opt/anaconda3/lib/python3.13/site-packages (from matplotlib!=3.6.1,>=3.4->seaborn) (24.2)\n",
      "Requirement already satisfied: pillow>=8 in /opt/anaconda3/lib/python3.13/site-packages (from matplotlib!=3.6.1,>=3.4->seaborn) (11.1.0)\n",
      "Requirement already satisfied: pyparsing>=2.3.1 in /opt/anaconda3/lib/python3.13/site-packages (from matplotlib!=3.6.1,>=3.4->seaborn) (3.2.0)\n",
      "Requirement already satisfied: python-dateutil>=2.7 in /opt/anaconda3/lib/python3.13/site-packages (from matplotlib!=3.6.1,>=3.4->seaborn) (2.9.0.post0)\n",
      "Requirement already satisfied: pytz>=2020.1 in /opt/anaconda3/lib/python3.13/site-packages (from pandas>=1.2->seaborn) (2024.1)\n",
      "Requirement already satisfied: tzdata>=2022.7 in /opt/anaconda3/lib/python3.13/site-packages (from pandas>=1.2->seaborn) (2025.2)\n",
      "Requirement already satisfied: six>=1.5 in /opt/anaconda3/lib/python3.13/site-packages (from python-dateutil>=2.7->matplotlib!=3.6.1,>=3.4->seaborn) (1.17.0)\n",
      "Note: you may need to restart the kernel to use updated packages.\n"
     ]
    }
   ],
   "source": [
    "pip install seaborn"
   ]
  },
  {
   "cell_type": "code",
   "execution_count": 4,
   "id": "219108c1-1fe6-45c3-88a2-9704c570671f",
   "metadata": {},
   "outputs": [],
   "source": [
    "#DATA PREPROCESSING - UNDERSTANDING THE STATISTICS, CLEANING, TRANSFORMING. "
   ]
  },
  {
   "cell_type": "code",
   "execution_count": 5,
   "id": "b006a2dd-c567-44fd-bb8c-a930930249dc",
   "metadata": {},
   "outputs": [],
   "source": [
    "import pandas as pd\n",
    "csv_df = pd.read_csv('/Users/vamshikrishnanalla/Downloads/apple_music_dataset.csv')"
   ]
  },
  {
   "cell_type": "code",
   "execution_count": 6,
   "id": "3b82f060-826a-42ac-a230-b6eee10f9b4a",
   "metadata": {},
   "outputs": [
    {
     "data": {
      "text/html": [
       "<div>\n",
       "<style scoped>\n",
       "    .dataframe tbody tr th:only-of-type {\n",
       "        vertical-align: middle;\n",
       "    }\n",
       "\n",
       "    .dataframe tbody tr th {\n",
       "        vertical-align: top;\n",
       "    }\n",
       "\n",
       "    .dataframe thead th {\n",
       "        text-align: right;\n",
       "    }\n",
       "</style>\n",
       "<table border=\"1\" class=\"dataframe\">\n",
       "  <thead>\n",
       "    <tr style=\"text-align: right;\">\n",
       "      <th></th>\n",
       "      <th>artistId</th>\n",
       "      <th>artistName</th>\n",
       "      <th>collectionCensoredName</th>\n",
       "      <th>collectionId</th>\n",
       "      <th>collectionName</th>\n",
       "      <th>collectionPrice</th>\n",
       "      <th>contentAdvisoryRating</th>\n",
       "      <th>country</th>\n",
       "      <th>currency</th>\n",
       "      <th>discCount</th>\n",
       "      <th>...</th>\n",
       "      <th>primaryGenreName</th>\n",
       "      <th>releaseDate</th>\n",
       "      <th>trackCensoredName</th>\n",
       "      <th>trackCount</th>\n",
       "      <th>trackExplicitness</th>\n",
       "      <th>trackId</th>\n",
       "      <th>trackName</th>\n",
       "      <th>trackNumber</th>\n",
       "      <th>trackPrice</th>\n",
       "      <th>trackTimeMillis</th>\n",
       "    </tr>\n",
       "  </thead>\n",
       "  <tbody>\n",
       "    <tr>\n",
       "      <th>0</th>\n",
       "      <td>46087</td>\n",
       "      <td>Erick Sermon</td>\n",
       "      <td>Music</td>\n",
       "      <td>298321651</td>\n",
       "      <td>Music</td>\n",
       "      <td>9.99</td>\n",
       "      <td>Explicit</td>\n",
       "      <td>USA</td>\n",
       "      <td>USD</td>\n",
       "      <td>1</td>\n",
       "      <td>...</td>\n",
       "      <td>Hip-Hop/Rap</td>\n",
       "      <td>2001-08-27T12:00:00Z</td>\n",
       "      <td>Music (feat. Marvin Gaye)</td>\n",
       "      <td>16</td>\n",
       "      <td>explicit</td>\n",
       "      <td>298321904</td>\n",
       "      <td>Music</td>\n",
       "      <td>4</td>\n",
       "      <td>1.29</td>\n",
       "      <td>223133</td>\n",
       "    </tr>\n",
       "    <tr>\n",
       "      <th>1</th>\n",
       "      <td>20044</td>\n",
       "      <td>Madonna</td>\n",
       "      <td>Music</td>\n",
       "      <td>80815197</td>\n",
       "      <td>Music</td>\n",
       "      <td>9.99</td>\n",
       "      <td>NaN</td>\n",
       "      <td>USA</td>\n",
       "      <td>USD</td>\n",
       "      <td>1</td>\n",
       "      <td>...</td>\n",
       "      <td>Pop</td>\n",
       "      <td>2000-08-21T07:00:00Z</td>\n",
       "      <td>Music</td>\n",
       "      <td>10</td>\n",
       "      <td>notExplicit</td>\n",
       "      <td>80815173</td>\n",
       "      <td>Music</td>\n",
       "      <td>1</td>\n",
       "      <td>1.29</td>\n",
       "      <td>225973</td>\n",
       "    </tr>\n",
       "    <tr>\n",
       "      <th>2</th>\n",
       "      <td>486597</td>\n",
       "      <td>Journey</td>\n",
       "      <td>Greatest Hits (2024 Remaster)</td>\n",
       "      <td>169003304</td>\n",
       "      <td>Greatest Hits (2024 Remaster)</td>\n",
       "      <td>10.99</td>\n",
       "      <td>NaN</td>\n",
       "      <td>USA</td>\n",
       "      <td>USD</td>\n",
       "      <td>1</td>\n",
       "      <td>...</td>\n",
       "      <td>Rock</td>\n",
       "      <td>1981-06-03T07:00:00Z</td>\n",
       "      <td>Don't Stop Believin' (2024 Remaster)</td>\n",
       "      <td>16</td>\n",
       "      <td>notExplicit</td>\n",
       "      <td>169003415</td>\n",
       "      <td>Don't Stop Believin' (2024 Remaster)</td>\n",
       "      <td>2</td>\n",
       "      <td>1.29</td>\n",
       "      <td>250835</td>\n",
       "    </tr>\n",
       "    <tr>\n",
       "      <th>3</th>\n",
       "      <td>156987</td>\n",
       "      <td>Jason Mraz</td>\n",
       "      <td>We Sing. We Dance. We Steal Things</td>\n",
       "      <td>277635758</td>\n",
       "      <td>We Sing. We Dance. We Steal Things</td>\n",
       "      <td>11.99</td>\n",
       "      <td>NaN</td>\n",
       "      <td>USA</td>\n",
       "      <td>USD</td>\n",
       "      <td>1</td>\n",
       "      <td>...</td>\n",
       "      <td>Pop</td>\n",
       "      <td>2008-02-12T08:00:00Z</td>\n",
       "      <td>I'm Yours</td>\n",
       "      <td>12</td>\n",
       "      <td>notExplicit</td>\n",
       "      <td>277635828</td>\n",
       "      <td>I'm Yours</td>\n",
       "      <td>2</td>\n",
       "      <td>1.29</td>\n",
       "      <td>242947</td>\n",
       "    </tr>\n",
       "    <tr>\n",
       "      <th>4</th>\n",
       "      <td>46087</td>\n",
       "      <td>Erick Sermon</td>\n",
       "      <td>Music</td>\n",
       "      <td>298429528</td>\n",
       "      <td>Music</td>\n",
       "      <td>9.99</td>\n",
       "      <td>Clean</td>\n",
       "      <td>USA</td>\n",
       "      <td>USD</td>\n",
       "      <td>1</td>\n",
       "      <td>...</td>\n",
       "      <td>Hip-Hop/Rap</td>\n",
       "      <td>2001-05-29T07:00:00Z</td>\n",
       "      <td>Music (feat. Marvin Gaye)</td>\n",
       "      <td>16</td>\n",
       "      <td>cleaned</td>\n",
       "      <td>298429596</td>\n",
       "      <td>Music</td>\n",
       "      <td>4</td>\n",
       "      <td>1.29</td>\n",
       "      <td>223133</td>\n",
       "    </tr>\n",
       "  </tbody>\n",
       "</table>\n",
       "<p>5 rows × 24 columns</p>\n",
       "</div>"
      ],
      "text/plain": [
       "   artistId    artistName              collectionCensoredName  collectionId  \\\n",
       "0     46087  Erick Sermon                               Music     298321651   \n",
       "1     20044       Madonna                               Music      80815197   \n",
       "2    486597       Journey       Greatest Hits (2024 Remaster)     169003304   \n",
       "3    156987    Jason Mraz  We Sing. We Dance. We Steal Things     277635758   \n",
       "4     46087  Erick Sermon                               Music     298429528   \n",
       "\n",
       "                       collectionName  collectionPrice contentAdvisoryRating  \\\n",
       "0                               Music             9.99              Explicit   \n",
       "1                               Music             9.99                   NaN   \n",
       "2       Greatest Hits (2024 Remaster)            10.99                   NaN   \n",
       "3  We Sing. We Dance. We Steal Things            11.99                   NaN   \n",
       "4                               Music             9.99                 Clean   \n",
       "\n",
       "  country currency  discCount  ...  primaryGenreName           releaseDate  \\\n",
       "0     USA      USD          1  ...       Hip-Hop/Rap  2001-08-27T12:00:00Z   \n",
       "1     USA      USD          1  ...               Pop  2000-08-21T07:00:00Z   \n",
       "2     USA      USD          1  ...              Rock  1981-06-03T07:00:00Z   \n",
       "3     USA      USD          1  ...               Pop  2008-02-12T08:00:00Z   \n",
       "4     USA      USD          1  ...       Hip-Hop/Rap  2001-05-29T07:00:00Z   \n",
       "\n",
       "                      trackCensoredName trackCount trackExplicitness  \\\n",
       "0             Music (feat. Marvin Gaye)         16          explicit   \n",
       "1                                 Music         10       notExplicit   \n",
       "2  Don't Stop Believin' (2024 Remaster)         16       notExplicit   \n",
       "3                             I'm Yours         12       notExplicit   \n",
       "4             Music (feat. Marvin Gaye)         16           cleaned   \n",
       "\n",
       "     trackId                             trackName  trackNumber trackPrice  \\\n",
       "0  298321904                                 Music            4       1.29   \n",
       "1   80815173                                 Music            1       1.29   \n",
       "2  169003415  Don't Stop Believin' (2024 Remaster)            2       1.29   \n",
       "3  277635828                             I'm Yours            2       1.29   \n",
       "4  298429596                                 Music            4       1.29   \n",
       "\n",
       "   trackTimeMillis  \n",
       "0           223133  \n",
       "1           225973  \n",
       "2           250835  \n",
       "3           242947  \n",
       "4           223133  \n",
       "\n",
       "[5 rows x 24 columns]"
      ]
     },
     "execution_count": 6,
     "metadata": {},
     "output_type": "execute_result"
    }
   ],
   "source": [
    "csv_df.head()"
   ]
  },
  {
   "cell_type": "code",
   "execution_count": 7,
   "id": "ab4940e6-fc0e-4e85-b70b-645c6b9bbdd3",
   "metadata": {},
   "outputs": [
    {
     "data": {
      "text/html": [
       "<div>\n",
       "<style scoped>\n",
       "    .dataframe tbody tr th:only-of-type {\n",
       "        vertical-align: middle;\n",
       "    }\n",
       "\n",
       "    .dataframe tbody tr th {\n",
       "        vertical-align: top;\n",
       "    }\n",
       "\n",
       "    .dataframe thead th {\n",
       "        text-align: right;\n",
       "    }\n",
       "</style>\n",
       "<table border=\"1\" class=\"dataframe\">\n",
       "  <thead>\n",
       "    <tr style=\"text-align: right;\">\n",
       "      <th></th>\n",
       "      <th>artistId</th>\n",
       "      <th>artistName</th>\n",
       "      <th>collectionCensoredName</th>\n",
       "      <th>collectionId</th>\n",
       "      <th>collectionName</th>\n",
       "      <th>collectionPrice</th>\n",
       "      <th>contentAdvisoryRating</th>\n",
       "      <th>country</th>\n",
       "      <th>currency</th>\n",
       "      <th>discCount</th>\n",
       "      <th>...</th>\n",
       "      <th>primaryGenreName</th>\n",
       "      <th>releaseDate</th>\n",
       "      <th>trackCensoredName</th>\n",
       "      <th>trackCount</th>\n",
       "      <th>trackExplicitness</th>\n",
       "      <th>trackId</th>\n",
       "      <th>trackName</th>\n",
       "      <th>trackNumber</th>\n",
       "      <th>trackPrice</th>\n",
       "      <th>trackTimeMillis</th>\n",
       "    </tr>\n",
       "  </thead>\n",
       "  <tbody>\n",
       "    <tr>\n",
       "      <th>9995</th>\n",
       "      <td>5192163</td>\n",
       "      <td>Dave Matthews &amp; Tim Reynolds</td>\n",
       "      <td>Live At Radio City (Bonus Track Version)</td>\n",
       "      <td>261552981</td>\n",
       "      <td>Live At Radio City (Bonus Track Version)</td>\n",
       "      <td>12.99</td>\n",
       "      <td>NaN</td>\n",
       "      <td>USA</td>\n",
       "      <td>USD</td>\n",
       "      <td>2</td>\n",
       "      <td>...</td>\n",
       "      <td>Rock</td>\n",
       "      <td>2007-08-14T12:00:00Z</td>\n",
       "      <td>So Damn Lucky (Live)</td>\n",
       "      <td>14</td>\n",
       "      <td>notExplicit</td>\n",
       "      <td>261553091</td>\n",
       "      <td>So Damn Lucky</td>\n",
       "      <td>6</td>\n",
       "      <td>1.29</td>\n",
       "      <td>411640</td>\n",
       "    </tr>\n",
       "    <tr>\n",
       "      <th>9996</th>\n",
       "      <td>214135551</td>\n",
       "      <td>Red</td>\n",
       "      <td>Until We Have Faces</td>\n",
       "      <td>416155893</td>\n",
       "      <td>Until We Have Faces</td>\n",
       "      <td>9.99</td>\n",
       "      <td>NaN</td>\n",
       "      <td>USA</td>\n",
       "      <td>USD</td>\n",
       "      <td>1</td>\n",
       "      <td>...</td>\n",
       "      <td>Rock</td>\n",
       "      <td>2011-02-01T12:00:00Z</td>\n",
       "      <td>Faceless</td>\n",
       "      <td>11</td>\n",
       "      <td>notExplicit</td>\n",
       "      <td>416155943</td>\n",
       "      <td>Faceless</td>\n",
       "      <td>2</td>\n",
       "      <td>1.29</td>\n",
       "      <td>203520</td>\n",
       "    </tr>\n",
       "    <tr>\n",
       "      <th>9997</th>\n",
       "      <td>121582</td>\n",
       "      <td>The Isley Brothers</td>\n",
       "      <td>The Essential Isley Brothers</td>\n",
       "      <td>198017385</td>\n",
       "      <td>The Essential Isley Brothers</td>\n",
       "      <td>14.99</td>\n",
       "      <td>NaN</td>\n",
       "      <td>USA</td>\n",
       "      <td>USD</td>\n",
       "      <td>2</td>\n",
       "      <td>...</td>\n",
       "      <td>R&amp;B/Soul</td>\n",
       "      <td>1973-07-14T07:00:00Z</td>\n",
       "      <td>That Lady, Pts. 1 &amp; 2</td>\n",
       "      <td>18</td>\n",
       "      <td>notExplicit</td>\n",
       "      <td>198017838</td>\n",
       "      <td>That Lady, Pts. 1 &amp; 2</td>\n",
       "      <td>2</td>\n",
       "      <td>1.29</td>\n",
       "      <td>334387</td>\n",
       "    </tr>\n",
       "    <tr>\n",
       "      <th>9998</th>\n",
       "      <td>91157642</td>\n",
       "      <td>David Eisley &amp; Bob Kulick</td>\n",
       "      <td>Spongebob Squarepants - The Yellow Album</td>\n",
       "      <td>283379708</td>\n",
       "      <td>Spongebob Squarepants - The Yellow Album</td>\n",
       "      <td>9.99</td>\n",
       "      <td>NaN</td>\n",
       "      <td>USA</td>\n",
       "      <td>USD</td>\n",
       "      <td>1</td>\n",
       "      <td>...</td>\n",
       "      <td>Children's Music</td>\n",
       "      <td>2005-11-15T12:00:00Z</td>\n",
       "      <td>Sweet Victory</td>\n",
       "      <td>23</td>\n",
       "      <td>notExplicit</td>\n",
       "      <td>283379767</td>\n",
       "      <td>Sweet Victory</td>\n",
       "      <td>2</td>\n",
       "      <td>1.29</td>\n",
       "      <td>126653</td>\n",
       "    </tr>\n",
       "    <tr>\n",
       "      <th>9999</th>\n",
       "      <td>540530</td>\n",
       "      <td>Pat Benatar</td>\n",
       "      <td>Greatest Hits</td>\n",
       "      <td>715881927</td>\n",
       "      <td>Greatest Hits</td>\n",
       "      <td>9.99</td>\n",
       "      <td>NaN</td>\n",
       "      <td>USA</td>\n",
       "      <td>USD</td>\n",
       "      <td>1</td>\n",
       "      <td>...</td>\n",
       "      <td>Rock</td>\n",
       "      <td>1979-08-27T07:00:00Z</td>\n",
       "      <td>Heartbreaker (2005 Remaster)</td>\n",
       "      <td>20</td>\n",
       "      <td>notExplicit</td>\n",
       "      <td>715882411</td>\n",
       "      <td>Heartbreaker (2005 Remaster)</td>\n",
       "      <td>1</td>\n",
       "      <td>1.29</td>\n",
       "      <td>208307</td>\n",
       "    </tr>\n",
       "  </tbody>\n",
       "</table>\n",
       "<p>5 rows × 24 columns</p>\n",
       "</div>"
      ],
      "text/plain": [
       "       artistId                    artistName  \\\n",
       "9995    5192163  Dave Matthews & Tim Reynolds   \n",
       "9996  214135551                           Red   \n",
       "9997     121582            The Isley Brothers   \n",
       "9998   91157642     David Eisley & Bob Kulick   \n",
       "9999     540530                   Pat Benatar   \n",
       "\n",
       "                        collectionCensoredName  collectionId  \\\n",
       "9995  Live At Radio City (Bonus Track Version)     261552981   \n",
       "9996                       Until We Have Faces     416155893   \n",
       "9997              The Essential Isley Brothers     198017385   \n",
       "9998  Spongebob Squarepants - The Yellow Album     283379708   \n",
       "9999                             Greatest Hits     715881927   \n",
       "\n",
       "                                collectionName  collectionPrice  \\\n",
       "9995  Live At Radio City (Bonus Track Version)            12.99   \n",
       "9996                       Until We Have Faces             9.99   \n",
       "9997              The Essential Isley Brothers            14.99   \n",
       "9998  Spongebob Squarepants - The Yellow Album             9.99   \n",
       "9999                             Greatest Hits             9.99   \n",
       "\n",
       "     contentAdvisoryRating country currency  discCount  ...  primaryGenreName  \\\n",
       "9995                   NaN     USA      USD          2  ...              Rock   \n",
       "9996                   NaN     USA      USD          1  ...              Rock   \n",
       "9997                   NaN     USA      USD          2  ...          R&B/Soul   \n",
       "9998                   NaN     USA      USD          1  ...  Children's Music   \n",
       "9999                   NaN     USA      USD          1  ...              Rock   \n",
       "\n",
       "               releaseDate             trackCensoredName trackCount  \\\n",
       "9995  2007-08-14T12:00:00Z          So Damn Lucky (Live)         14   \n",
       "9996  2011-02-01T12:00:00Z                      Faceless         11   \n",
       "9997  1973-07-14T07:00:00Z         That Lady, Pts. 1 & 2         18   \n",
       "9998  2005-11-15T12:00:00Z                 Sweet Victory         23   \n",
       "9999  1979-08-27T07:00:00Z  Heartbreaker (2005 Remaster)         20   \n",
       "\n",
       "     trackExplicitness    trackId                     trackName  trackNumber  \\\n",
       "9995       notExplicit  261553091                 So Damn Lucky            6   \n",
       "9996       notExplicit  416155943                      Faceless            2   \n",
       "9997       notExplicit  198017838         That Lady, Pts. 1 & 2            2   \n",
       "9998       notExplicit  283379767                 Sweet Victory            2   \n",
       "9999       notExplicit  715882411  Heartbreaker (2005 Remaster)            1   \n",
       "\n",
       "     trackPrice  trackTimeMillis  \n",
       "9995       1.29           411640  \n",
       "9996       1.29           203520  \n",
       "9997       1.29           334387  \n",
       "9998       1.29           126653  \n",
       "9999       1.29           208307  \n",
       "\n",
       "[5 rows x 24 columns]"
      ]
     },
     "execution_count": 7,
     "metadata": {},
     "output_type": "execute_result"
    }
   ],
   "source": [
    "csv_df.tail()"
   ]
  },
  {
   "cell_type": "code",
   "execution_count": 8,
   "id": "a34e8263-19b2-4ed3-bb3b-9c13af8ff7e7",
   "metadata": {},
   "outputs": [
    {
     "data": {
      "text/plain": [
       "RangeIndex(start=0, stop=10000, step=1)"
      ]
     },
     "execution_count": 8,
     "metadata": {},
     "output_type": "execute_result"
    }
   ],
   "source": [
    "sql_df = csv_df\n",
    "sql_df.index"
   ]
  },
  {
   "cell_type": "code",
   "execution_count": 9,
   "id": "6c3a2e29-d3dd-4111-82f0-6d5c975852cb",
   "metadata": {},
   "outputs": [
    {
     "data": {
      "text/plain": [
       "Index(['artistId', 'artistName', 'collectionCensoredName', 'collectionId',\n",
       "       'collectionName', 'collectionPrice', 'contentAdvisoryRating', 'country',\n",
       "       'currency', 'discCount', 'discNumber', 'isStreamable', 'kind',\n",
       "       'previewUrl', 'primaryGenreName', 'releaseDate', 'trackCensoredName',\n",
       "       'trackCount', 'trackExplicitness', 'trackId', 'trackName',\n",
       "       'trackNumber', 'trackPrice', 'trackTimeMillis'],\n",
       "      dtype='object')"
      ]
     },
     "execution_count": 9,
     "metadata": {},
     "output_type": "execute_result"
    }
   ],
   "source": [
    "sql_df.columns"
   ]
  },
  {
   "cell_type": "code",
   "execution_count": 10,
   "id": "e715a0aa-ad6e-4fb4-899f-0d6f4d9dbe46",
   "metadata": {},
   "outputs": [
    {
     "data": {
      "text/plain": [
       "pandas.core.frame.DataFrame"
      ]
     },
     "execution_count": 10,
     "metadata": {},
     "output_type": "execute_result"
    }
   ],
   "source": [
    "type(sql_df)"
   ]
  },
  {
   "cell_type": "code",
   "execution_count": 11,
   "id": "25adccc9-3e82-49d3-a426-b7ffa9e50f09",
   "metadata": {},
   "outputs": [
    {
     "name": "stdout",
     "output_type": "stream",
     "text": [
      "<class 'pandas.core.frame.DataFrame'>\n",
      "RangeIndex: 10000 entries, 0 to 9999\n",
      "Data columns (total 24 columns):\n",
      " #   Column                  Non-Null Count  Dtype  \n",
      "---  ------                  --------------  -----  \n",
      " 0   artistId                10000 non-null  int64  \n",
      " 1   artistName              10000 non-null  object \n",
      " 2   collectionCensoredName  10000 non-null  object \n",
      " 3   collectionId            10000 non-null  int64  \n",
      " 4   collectionName          10000 non-null  object \n",
      " 5   collectionPrice         9919 non-null   float64\n",
      " 6   contentAdvisoryRating   1512 non-null   object \n",
      " 7   country                 10000 non-null  object \n",
      " 8   currency                10000 non-null  object \n",
      " 9   discCount               10000 non-null  int64  \n",
      " 10  discNumber              10000 non-null  int64  \n",
      " 11  isStreamable            9999 non-null   object \n",
      " 12  kind                    10000 non-null  object \n",
      " 13  previewUrl              10000 non-null  object \n",
      " 14  primaryGenreName        10000 non-null  object \n",
      " 15  releaseDate             10000 non-null  object \n",
      " 16  trackCensoredName       10000 non-null  object \n",
      " 17  trackCount              10000 non-null  int64  \n",
      " 18  trackExplicitness       10000 non-null  object \n",
      " 19  trackId                 10000 non-null  int64  \n",
      " 20  trackName               10000 non-null  object \n",
      " 21  trackNumber             10000 non-null  int64  \n",
      " 22  trackPrice              9976 non-null   float64\n",
      " 23  trackTimeMillis         10000 non-null  int64  \n",
      "dtypes: float64(2), int64(8), object(14)\n",
      "memory usage: 1.8+ MB\n"
     ]
    }
   ],
   "source": [
    "sql_df.info()"
   ]
  },
  {
   "cell_type": "code",
   "execution_count": 12,
   "id": "bef8baa2-66b6-4b9d-9cf1-566856948564",
   "metadata": {},
   "outputs": [
    {
     "name": "stdout",
     "output_type": "stream",
     "text": [
      "46087\n"
     ]
    }
   ],
   "source": [
    "# Printing First row and first column value\n",
    "print(sql_df.iloc[0, 0])"
   ]
  },
  {
   "cell_type": "code",
   "execution_count": 13,
   "id": "588ff74a-a7cf-464a-bc08-0755c789344a",
   "metadata": {},
   "outputs": [
    {
     "name": "stdout",
     "output_type": "stream",
     "text": [
      "208307\n"
     ]
    }
   ],
   "source": [
    "# Print last row and last column\n",
    "print(sql_df.iloc[-1, -1])"
   ]
  },
  {
   "cell_type": "code",
   "execution_count": 14,
   "id": "84db01d7-7963-4442-b73d-cd850a46b58e",
   "metadata": {},
   "outputs": [
    {
     "name": "stdout",
     "output_type": "stream",
     "text": [
      "artistId                                                          956078923\n",
      "artistName                                                          Cardi B\n",
      "collectionCensoredName                                  Invasion of Privacy\n",
      "collectionId                                                     1368156323\n",
      "collectionName                                          Invasion of Privacy\n",
      "collectionPrice                                                        6.99\n",
      "contentAdvisoryRating                                              Explicit\n",
      "country                                                                 USA\n",
      "currency                                                                USD\n",
      "discCount                                                                 1\n",
      "discNumber                                                                1\n",
      "isStreamable                                                           True\n",
      "kind                                                                   song\n",
      "previewUrl                https://audio-ssl.itunes.apple.com/itunes-asse...\n",
      "primaryGenreName                                                Hip-Hop/Rap\n",
      "releaseDate                                            2018-03-30T07:00:00Z\n",
      "trackCensoredName                                                Be Careful\n",
      "trackCount                                                               13\n",
      "trackExplicitness                                                  explicit\n",
      "trackId                                                          1368156579\n",
      "trackName                                                        Be Careful\n",
      "trackNumber                                                               5\n",
      "trackPrice                                                             1.29\n",
      "trackTimeMillis                                                      210787\n",
      "Name: 3502, dtype: object\n"
     ]
    }
   ],
   "source": [
    "# Print data of any location\n",
    "print(sql_df.loc[3502])"
   ]
  },
  {
   "cell_type": "code",
   "execution_count": 15,
   "id": "d00b3ef7-18a1-4c51-b001-eba987961f04",
   "metadata": {},
   "outputs": [],
   "source": [
    "import matplotlib.pyplot as plt"
   ]
  },
  {
   "cell_type": "code",
   "execution_count": 16,
   "id": "8d4ee1ce-3a9b-4a26-aaef-c815bfcf533a",
   "metadata": {},
   "outputs": [
    {
     "data": {
      "image/png": "[encoded data removed]",
      "text/plain": [
       "<Figure size 640x480 with 1 Axes>"
      ]
     },
     "metadata": {},
     "output_type": "display_data"
    }
   ],
   "source": [
    "# A histogram shows the distribution of a numeric dataset. On the x-axis, \n",
    "#we have values of milliseconds. On the y-axis, we have the number of counts of datapoints within each bar.\n",
    "\n",
    "sql_df['trackTimeMillis'].hist(bins=10)\n",
    "plt.show()"
   ]
  },
  {
   "cell_type": "code",
   "execution_count": 17,
   "id": "c0ae91e0-a665-4ac2-a408-0f94db53e3b8",
   "metadata": {},
   "outputs": [
    {
     "data": {
      "image/png": "[encoded data removed]",
      "text/plain": [
       "<Figure size 640x480 with 1 Axes>"
      ]
     },
     "metadata": {},
     "output_type": "display_data"
    }
   ],
   "source": [
    "sql_df.plot.scatter(x='trackTimeMillis', y='trackPrice')\n",
    "plt.show()"
   ]
  },
  {
   "cell_type": "code",
   "execution_count": 18,
   "id": "d67be8f8-4151-4dac-8f4c-5be0812b0508",
   "metadata": {},
   "outputs": [
    {
     "data": {
      "image/png": "[encoded data removed]",
      "text/plain": [
       "<Figure size 640x480 with 1 Axes>"
      ]
     },
     "metadata": {},
     "output_type": "display_data"
    }
   ],
   "source": [
    "sql_df['primaryGenreName'].value_counts().plot.bar()\n",
    "plt.show()"
   ]
  },
  {
   "cell_type": "code",
   "execution_count": 19,
   "id": "f2ee7c5c-c650-41ea-8e6c-e8f9a2048181",
   "metadata": {},
   "outputs": [
    {
     "data": {
      "text/plain": [
       "Index(['artistId', 'artistName', 'collectionCensoredName', 'collectionId',\n",
       "       'collectionName', 'collectionPrice', 'contentAdvisoryRating', 'country',\n",
       "       'currency', 'discCount', 'discNumber', 'isStreamable', 'kind',\n",
       "       'previewUrl', 'primaryGenreName', 'trackCensoredName', 'trackCount',\n",
       "       'trackExplicitness', 'trackId', 'trackName', 'trackNumber',\n",
       "       'trackPrice', 'trackTimeMillis'],\n",
       "      dtype='object')"
      ]
     },
     "execution_count": 19,
     "metadata": {},
     "output_type": "execute_result"
    }
   ],
   "source": [
    "#CLEANING THE DATA\n",
    "\n",
    "#1. REMOVING IRRELEVANT DATA\n",
    "\n",
    "#use the drop function of DataFrames, giving the column name as the first argument. \n",
    "#We can drop multiple columns at once by supplying a list. The   argument specifies to drop a column, not a row, and\n",
    "# inplace=True changes the DataFrame itself instead of returning a new,dataframe\n",
    "\n",
    "sql_df.drop('releaseDate', axis=1, inplace=True)\n",
    "sql_df.columns"
   ]
  },
  {
   "cell_type": "code",
   "execution_count": 20,
   "id": "fd12962a-93b8-458e-b288-95f9d53ea561",
   "metadata": {},
   "outputs": [],
   "source": [
    "#2. DEALING WITH THE MISSING VALUES\n",
    "#REPLACING WITH MODE\n",
    "sql_df['trackPrice'] = sql_df['trackPrice'].fillna(sql_df['trackPrice'].mode()[0])"
   ]
  },
  {
   "cell_type": "code",
   "execution_count": 21,
   "id": "d39ea5a9-5b73-4f8e-827d-f28f600e2210",
   "metadata": {},
   "outputs": [
    {
     "name": "stdout",
     "output_type": "stream",
     "text": [
      "0       1.29\n",
      "1       1.29\n",
      "2       1.29\n",
      "3       1.29\n",
      "4       1.29\n",
      "        ... \n",
      "9995    1.29\n",
      "9996    1.29\n",
      "9997    1.29\n",
      "9998    1.29\n",
      "9999    1.29\n",
      "Name: trackPrice, Length: 10000, dtype: float64\n"
     ]
    }
   ],
   "source": [
    "print(sql_df.trackPrice)"
   ]
  },
  {
   "cell_type": "code",
   "execution_count": 22,
   "id": "e34be887-912b-472a-8fe7-92381ecd7335",
   "metadata": {},
   "outputs": [
    {
     "data": {
      "text/plain": [
       "np.int64(1259)"
      ]
     },
     "execution_count": 22,
     "metadata": {},
     "output_type": "execute_result"
    }
   ],
   "source": [
    "# DEALING WITH DUPLICATES\n",
    "# This prints out the number of rows that are exact duplicates. In this case, we see that 1259 rows are duplicated!\n",
    "sql_df.duplicated().sum()"
   ]
  },
  {
   "cell_type": "code",
   "execution_count": 23,
   "id": "c6a85907-868b-4160-b5ab-d58b8b86961b",
   "metadata": {},
   "outputs": [],
   "source": [
    "# ENSURING DATA TYPES ARE CORRECT OR WE CAN COVERT\n",
    "# Conerting from int64 to float - \n",
    "\n",
    "sql_df['trackTimeMillis'] = sql_df['trackTimeMillis'].astype('float')"
   ]
  },
  {
   "cell_type": "code",
   "execution_count": 24,
   "id": "490915ff-b0ee-428a-a7f5-24048fd1f114",
   "metadata": {},
   "outputs": [],
   "source": [
    "# DATA TRANFORMATIONS\n",
    "#we can convert milliseconds to seconds like so:\n",
    "sql_df['collectionPriceinRupees'] = sql_df['collectionPrice'] * 84"
   ]
  },
  {
   "cell_type": "code",
   "execution_count": 25,
   "id": "050125a4-8e84-461e-99be-8dc24fef4ab7",
   "metadata": {},
   "outputs": [
    {
     "name": "stdout",
     "output_type": "stream",
     "text": [
      "0        839.16\n",
      "1        839.16\n",
      "2        923.16\n",
      "3       1007.16\n",
      "4        839.16\n",
      "         ...   \n",
      "9995    1091.16\n",
      "9996     839.16\n",
      "9997    1259.16\n",
      "9998     839.16\n",
      "9999     839.16\n",
      "Name: collectionPriceinRupees, Length: 10000, dtype: float64\n"
     ]
    }
   ],
   "source": [
    "print(sql_df.collectionPriceinRupees)"
   ]
  },
  {
   "cell_type": "code",
   "execution_count": 26,
   "id": "bce34d74-8a16-4df2-a481-eda895a4db79",
   "metadata": {},
   "outputs": [
    {
     "data": {
      "text/plain": [
       "0            Hip-Hop/Rap\n",
       "1              Pop Music\n",
       "2             Rock Music\n",
       "3              Pop Music\n",
       "4            Hip-Hop/Rap\n",
       "              ...       \n",
       "9995          Rock Music\n",
       "9996          Rock Music\n",
       "9997            R&B/Soul\n",
       "9998    Children's Music\n",
       "9999          Rock Music\n",
       "Name: primaryGenreName, Length: 10000, dtype: object"
      ]
     },
     "execution_count": 26,
     "metadata": {},
     "output_type": "execute_result"
    }
   ],
   "source": [
    "# Using replace, map, and apply to clean and transform data\n",
    "# First, we create a dictionary, where the keys are the existing values in the DataFrame, and the values are what should replace\n",
    "#the existing values. In this case, we replace variations of the genre ( metal and met ) with Metal .\n",
    "genre_dict = {'Rock': 'Rock Music', 'Pop': 'Pop Music'}\n",
    "sql_df['primaryGenreName'].replace(genre_dict)"
   ]
  },
  {
   "cell_type": "code",
   "execution_count": 27,
   "id": "d5070f57-efc9-4343-b251-4b8b96819e4d",
   "metadata": {},
   "outputs": [
    {
     "data": {
      "text/plain": [
       "0                                      music\n",
       "1                                      music\n",
       "2       don't stop believin' (2024 remaster)\n",
       "3                                  i'm yours\n",
       "4                                      music\n",
       "                        ...                 \n",
       "9995                           so damn lucky\n",
       "9996                                faceless\n",
       "9997                   that lady, pts. 1 & 2\n",
       "9998                           sweet victory\n",
       "9999            heartbreaker (2005 remaster)\n",
       "Name: trackName, Length: 10000, dtype: object"
      ]
     },
     "execution_count": 27,
     "metadata": {},
     "output_type": "execute_result"
    }
   ],
   "source": [
    "# USING APPLY FUNCTION\n",
    "\n",
    "def lowercase(x):\n",
    "    return x.lower()\n",
    "sql_df['trackName'].apply(lowercase)"
   ]
  },
  {
   "cell_type": "code",
   "execution_count": null,
   "id": "828becd7-afe4-4d45-adb1-79003aafa9f8",
   "metadata": {},
   "outputs": [],
   "source": [
    "# Writing DataFrames to disk\n",
    "\n",
    "sql_df.to_csv('/Users/vamshikrishnanalla/Downloads/saved_sql_data.csv', index=False)"
   ]
  }
 ],
 "metadata": {
  "kernelspec": {
   "display_name": "Python [conda env:base] *",
   "language": "python",
   "name": "conda-base-py"
  },
  "language_info": {
   "codemirror_mode": {
    "name": "ipython",
    "version": 3
   },
   "file_extension": ".py",
   "mimetype": "text/x-python",
   "name": "python",
   "nbconvert_exporter": "python",
   "pygments_lexer": "ipython3",
   "version": "3.13.5"
  }
 },
 "nbformat": 4,
 "nbformat_minor": 5
}
