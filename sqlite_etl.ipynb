{
 "cells": [
  {
   "cell_type": "code",
   "execution_count": 1,
   "id": "d4021858-2a9c-4967-8d3b-c306570e5e71",
   "metadata": {},
   "outputs": [
    {
     "name": "stdout",
     "output_type": "stream",
     "text": [
      "3.45.3\n"
     ]
    }
   ],
   "source": [
    "import sqlite3\n",
    "print(sqlite3.sqlite_version)"
   ]
  },
  {
   "cell_type": "code",
   "execution_count": 2,
   "id": "ca3bbc9c-23ea-40c1-8ceb-e92db64cd619",
   "metadata": {},
   "outputs": [],
   "source": [
    "import sqlite3\n",
    "import pandas as pd\n",
    "import numpy as np\n",
    "import matplotlib.pyplot as plt\n",
    "import seaborn as sns"
   ]
  },
  {
   "cell_type": "code",
   "execution_count": 3,
   "id": "4219e4ee-28a1-4dca-a4d6-1dfc28601a41",
   "metadata": {},
   "outputs": [],
   "source": [
    "# Connect to SQLite database\n",
    "conn = sqlite3.connect(\"stock_market_2025.db\")\n",
    "cursor = conn.cursor()"
   ]
  },
  {
   "cell_type": "code",
   "execution_count": 4,
   "id": "995ebdf7-f778-4d16-86a1-be4e8aaf3b65",
   "metadata": {},
   "outputs": [
    {
     "name": "stdout",
     "output_type": "stream",
     "text": [
      "Table ready.\n"
     ]
    }
   ],
   "source": [
    "# Create table if not exists\n",
    "cursor.execute(\"\"\"\n",
    "CREATE TABLE IF NOT EXISTS stocks (\n",
    "    id INTEGER PRIMARY KEY AUTOINCREMENT,\n",
    "    date TEXT,\n",
    "    ticker TEXT,\n",
    "    open REAL,\n",
    "    close REAL,\n",
    "    volume INTEGER,\n",
    "    sector TEXT,\n",
    "    price_change REAL\n",
    ")\n",
    "\"\"\")\n",
    "print(\"Table ready.\")"
   ]
  },
  {
   "cell_type": "code",
   "execution_count": 5,
   "id": "5a1fd4b8-4249-4ded-8fb1-6da0ef550275",
   "metadata": {},
   "outputs": [
    {
     "name": "stdout",
     "output_type": "stream",
     "text": [
      "Inserted 20 rows with some NULL close values.\n"
     ]
    }
   ],
   "source": [
    "# Insert 20 rows of sample data, including NULL values for 'close'\n",
    "sample_data = [\n",
    "    (\"2025-09-01\", \"AAPL\", 150.0, 155.0, 50000000, \"Technology\", None),\n",
    "    (\"2025-09-01\", \"GOOGL\", 2800.0, None, 1500000, \"Technology\", None),          # Null close here\n",
    "    (\"2025-09-01\", \"TSLA\", 700.0, 710.0, 30000000, \"Automotive\", None),\n",
    "    (\"2025-09-02\", \"AAPL\", 155.0, 154.0, 48000000, \"Technology\", None),\n",
    "    (\"2025-09-02\", \"GOOGL\", 2825.0, 2835.0, 1600000, \"Technology\", None),\n",
    "    (\"2025-09-02\", \"TSLA\", 710.0, 698.0, 32000000, \"Automotive\", None),\n",
    "    (\"2025-09-03\", \"MSFT\", 310.0, 315.0, 22000000, \"Technology\", None),\n",
    "    (\"2025-09-03\", \"AMZN\", 3450.0, 3400.0, 1300000, \"Consumer Discretionary\", None),\n",
    "    (\"2025-09-03\", \"FB\", 360.0, 355.0, 18000000, \"Technology\", None),\n",
    "    (\"2025-09-04\", \"NFLX\", 600.0, 605.0, 9000000, \"Communication Services\", None),\n",
    "    (\"2025-09-04\", \"NVDA\", 750.0, 760.0, 17000000, \"Technology\", None),\n",
    "    (\"2025-09-05\", \"BABA\", 220.0, None, 11000000, \"Consumer Discretionary\", None), # Null close here\n",
    "    (\"2025-09-05\", \"DIS\", 170.0, 172.0, 14000000, \"Communication Services\", None),\n",
    "    (\"2025-09-06\", \"PFE\", 48.0, 47.5, 27000000, \"Healthcare\", None),\n",
    "    (\"2025-09-06\", \"JNJ\", 165.0, 166.0, 16000000, \"Healthcare\", None),\n",
    "    (\"2025-09-07\", \"XOM\", 70.0, 69.0, 20000000, \"Energy\", None),\n",
    "    (\"2025-09-07\", \"CVX\", 100.0, 102.0, 15000000, \"Energy\", None),\n",
    "    (\"2025-09-08\", \"WMT\", 140.0, 138.0, 23000000, \"Consumer Staples\", None),\n",
    "    (\"2025-09-08\", \"KO\", 55.0, 56.0, 19000000, \"Consumer Staples\", None),\n",
    "    (\"2025-09-09\", \"PYPL\", 260.0, 262.0, 12500000, \"Technology\", None)\n",
    "]\n",
    "\n",
    "cursor.execute(\"DELETE FROM stocks\")  # Clear old data\n",
    "cursor.executemany(\"\"\"\n",
    "INSERT INTO stocks (date, ticker, open, close, volume, sector, price_change)\n",
    "VALUES (?, ?, ?, ?, ?, ?, ?)\n",
    "\"\"\", sample_data)\n",
    "conn.commit()\n",
    "print(\"Inserted 20 rows with some NULL close values.\")\n"
   ]
  },
  {
   "cell_type": "code",
   "execution_count": 6,
   "id": "a8216eac-dcf0-4fcb-98f2-aab856075293",
   "metadata": {},
   "outputs": [
    {
     "name": "stdout",
     "output_type": "stream",
     "text": [
      "\n",
      "Initial extracted data with NULLs:\n"
     ]
    }
   ],
   "source": [
    "# Extract data into pandas DataFrame\n",
    "stock = pd.read_sql_query(\"SELECT * FROM stocks\", conn)\n",
    "print(\"\\nInitial extracted data with NULLs:\")"
   ]
  },
  {
   "cell_type": "code",
   "execution_count": 7,
   "id": "7ee2c295-a88a-4bae-9946-8a964ccf4d72",
   "metadata": {},
   "outputs": [
    {
     "data": {
      "text/html": [
       "<div>\n",
       "<style scoped>\n",
       "    .dataframe tbody tr th:only-of-type {\n",
       "        vertical-align: middle;\n",
       "    }\n",
       "\n",
       "    .dataframe tbody tr th {\n",
       "        vertical-align: top;\n",
       "    }\n",
       "\n",
       "    .dataframe thead th {\n",
       "        text-align: right;\n",
       "    }\n",
       "</style>\n",
       "<table border=\"1\" class=\"dataframe\">\n",
       "  <thead>\n",
       "    <tr style=\"text-align: right;\">\n",
       "      <th></th>\n",
       "      <th>id</th>\n",
       "      <th>date</th>\n",
       "      <th>ticker</th>\n",
       "      <th>open</th>\n",
       "      <th>close</th>\n",
       "      <th>volume</th>\n",
       "      <th>sector</th>\n",
       "      <th>price_change</th>\n",
       "    </tr>\n",
       "  </thead>\n",
       "  <tbody>\n",
       "    <tr>\n",
       "      <th>0</th>\n",
       "      <td>21</td>\n",
       "      <td>2025-09-01</td>\n",
       "      <td>AAPL</td>\n",
       "      <td>150.0</td>\n",
       "      <td>155.0</td>\n",
       "      <td>50000000</td>\n",
       "      <td>Technology</td>\n",
       "      <td>None</td>\n",
       "    </tr>\n",
       "    <tr>\n",
       "      <th>1</th>\n",
       "      <td>22</td>\n",
       "      <td>2025-09-01</td>\n",
       "      <td>GOOGL</td>\n",
       "      <td>2800.0</td>\n",
       "      <td>NaN</td>\n",
       "      <td>1500000</td>\n",
       "      <td>Technology</td>\n",
       "      <td>None</td>\n",
       "    </tr>\n",
       "    <tr>\n",
       "      <th>2</th>\n",
       "      <td>23</td>\n",
       "      <td>2025-09-01</td>\n",
       "      <td>TSLA</td>\n",
       "      <td>700.0</td>\n",
       "      <td>710.0</td>\n",
       "      <td>30000000</td>\n",
       "      <td>Automotive</td>\n",
       "      <td>None</td>\n",
       "    </tr>\n",
       "    <tr>\n",
       "      <th>3</th>\n",
       "      <td>24</td>\n",
       "      <td>2025-09-02</td>\n",
       "      <td>AAPL</td>\n",
       "      <td>155.0</td>\n",
       "      <td>154.0</td>\n",
       "      <td>48000000</td>\n",
       "      <td>Technology</td>\n",
       "      <td>None</td>\n",
       "    </tr>\n",
       "    <tr>\n",
       "      <th>4</th>\n",
       "      <td>25</td>\n",
       "      <td>2025-09-02</td>\n",
       "      <td>GOOGL</td>\n",
       "      <td>2825.0</td>\n",
       "      <td>2835.0</td>\n",
       "      <td>1600000</td>\n",
       "      <td>Technology</td>\n",
       "      <td>None</td>\n",
       "    </tr>\n",
       "  </tbody>\n",
       "</table>\n",
       "</div>"
      ],
      "text/plain": [
       "   id        date ticker    open   close    volume      sector price_change\n",
       "0  21  2025-09-01   AAPL   150.0   155.0  50000000  Technology         None\n",
       "1  22  2025-09-01  GOOGL  2800.0     NaN   1500000  Technology         None\n",
       "2  23  2025-09-01   TSLA   700.0   710.0  30000000  Automotive         None\n",
       "3  24  2025-09-02   AAPL   155.0   154.0  48000000  Technology         None\n",
       "4  25  2025-09-02  GOOGL  2825.0  2835.0   1600000  Technology         None"
      ]
     },
     "execution_count": 7,
     "metadata": {},
     "output_type": "execute_result"
    }
   ],
   "source": [
    "stock.head()"
   ]
  },
  {
   "cell_type": "code",
   "execution_count": 8,
   "id": "61ec0167-354c-4507-adb3-eac8954e1c33",
   "metadata": {},
   "outputs": [
    {
     "data": {
      "text/html": [
       "<div>\n",
       "<style scoped>\n",
       "    .dataframe tbody tr th:only-of-type {\n",
       "        vertical-align: middle;\n",
       "    }\n",
       "\n",
       "    .dataframe tbody tr th {\n",
       "        vertical-align: top;\n",
       "    }\n",
       "\n",
       "    .dataframe thead th {\n",
       "        text-align: right;\n",
       "    }\n",
       "</style>\n",
       "<table border=\"1\" class=\"dataframe\">\n",
       "  <thead>\n",
       "    <tr style=\"text-align: right;\">\n",
       "      <th></th>\n",
       "      <th>id</th>\n",
       "      <th>date</th>\n",
       "      <th>ticker</th>\n",
       "      <th>open</th>\n",
       "      <th>close</th>\n",
       "      <th>volume</th>\n",
       "      <th>sector</th>\n",
       "      <th>price_change</th>\n",
       "    </tr>\n",
       "  </thead>\n",
       "  <tbody>\n",
       "    <tr>\n",
       "      <th>15</th>\n",
       "      <td>36</td>\n",
       "      <td>2025-09-07</td>\n",
       "      <td>XOM</td>\n",
       "      <td>70.0</td>\n",
       "      <td>69.0</td>\n",
       "      <td>20000000</td>\n",
       "      <td>Energy</td>\n",
       "      <td>None</td>\n",
       "    </tr>\n",
       "    <tr>\n",
       "      <th>16</th>\n",
       "      <td>37</td>\n",
       "      <td>2025-09-07</td>\n",
       "      <td>CVX</td>\n",
       "      <td>100.0</td>\n",
       "      <td>102.0</td>\n",
       "      <td>15000000</td>\n",
       "      <td>Energy</td>\n",
       "      <td>None</td>\n",
       "    </tr>\n",
       "    <tr>\n",
       "      <th>17</th>\n",
       "      <td>38</td>\n",
       "      <td>2025-09-08</td>\n",
       "      <td>WMT</td>\n",
       "      <td>140.0</td>\n",
       "      <td>138.0</td>\n",
       "      <td>23000000</td>\n",
       "      <td>Consumer Staples</td>\n",
       "      <td>None</td>\n",
       "    </tr>\n",
       "    <tr>\n",
       "      <th>18</th>\n",
       "      <td>39</td>\n",
       "      <td>2025-09-08</td>\n",
       "      <td>KO</td>\n",
       "      <td>55.0</td>\n",
       "      <td>56.0</td>\n",
       "      <td>19000000</td>\n",
       "      <td>Consumer Staples</td>\n",
       "      <td>None</td>\n",
       "    </tr>\n",
       "    <tr>\n",
       "      <th>19</th>\n",
       "      <td>40</td>\n",
       "      <td>2025-09-09</td>\n",
       "      <td>PYPL</td>\n",
       "      <td>260.0</td>\n",
       "      <td>262.0</td>\n",
       "      <td>12500000</td>\n",
       "      <td>Technology</td>\n",
       "      <td>None</td>\n",
       "    </tr>\n",
       "  </tbody>\n",
       "</table>\n",
       "</div>"
      ],
      "text/plain": [
       "    id        date ticker   open  close    volume            sector  \\\n",
       "15  36  2025-09-07    XOM   70.0   69.0  20000000            Energy   \n",
       "16  37  2025-09-07    CVX  100.0  102.0  15000000            Energy   \n",
       "17  38  2025-09-08    WMT  140.0  138.0  23000000  Consumer Staples   \n",
       "18  39  2025-09-08     KO   55.0   56.0  19000000  Consumer Staples   \n",
       "19  40  2025-09-09   PYPL  260.0  262.0  12500000        Technology   \n",
       "\n",
       "   price_change  \n",
       "15         None  \n",
       "16         None  \n",
       "17         None  \n",
       "18         None  \n",
       "19         None  "
      ]
     },
     "execution_count": 8,
     "metadata": {},
     "output_type": "execute_result"
    }
   ],
   "source": [
    "stock.tail()"
   ]
  },
  {
   "cell_type": "code",
   "execution_count": 9,
   "id": "e4343f47-9493-46ff-96ce-f9daffb22de9",
   "metadata": {},
   "outputs": [
    {
     "name": "stdout",
     "output_type": "stream",
     "text": [
      "\n",
      "Missing values before cleaning:\n",
      "id               0\n",
      "date             0\n",
      "ticker           0\n",
      "open             0\n",
      "close            2\n",
      "volume           0\n",
      "sector           0\n",
      "price_change    20\n",
      "dtype: int64\n",
      "\n",
      "Missing values after cleaning:\n",
      "id               0\n",
      "date             0\n",
      "ticker           0\n",
      "open             0\n",
      "close            0\n",
      "volume           0\n",
      "sector           0\n",
      "price_change    20\n",
      "dtype: int64\n"
     ]
    },
    {
     "name": "stderr",
     "output_type": "stream",
     "text": [
      "/var/folders/rq/31r181vd7vx4dzr2qfr0mwdm0000gn/T/ipykernel_7968/3033578940.py:5: FutureWarning: A value is trying to be set on a copy of a DataFrame or Series through chained assignment using an inplace method.\n",
      "The behavior will change in pandas 3.0. This inplace method will never work because the intermediate object on which we are setting values always behaves as a copy.\n",
      "\n",
      "For example, when doing 'df[col].method(value, inplace=True)', try using 'df.method({col: value}, inplace=True)' or df[col] = df[col].method(value) instead, to perform the operation inplace on the original object.\n",
      "\n",
      "\n",
      "  stock['close'].fillna(method='ffill', inplace=True)\n",
      "/var/folders/rq/31r181vd7vx4dzr2qfr0mwdm0000gn/T/ipykernel_7968/3033578940.py:5: FutureWarning: Series.fillna with 'method' is deprecated and will raise in a future version. Use obj.ffill() or obj.bfill() instead.\n",
      "  stock['close'].fillna(method='ffill', inplace=True)\n"
     ]
    }
   ],
   "source": [
    "# Handle missing 'close' values by forward fill (or choose any method)\n",
    "print(\"\\nMissing values before cleaning:\")\n",
    "print(stock.isnull().sum())\n",
    "\n",
    "stock['close'].fillna(method='ffill', inplace=True)\n",
    "\n",
    "print(\"\\nMissing values after cleaning:\")\n",
    "print(stock.isnull().sum())"
   ]
  },
  {
   "cell_type": "code",
   "execution_count": 10,
   "id": "504fc0a3-79f4-49ab-94c0-19c4300a3545",
   "metadata": {},
   "outputs": [
    {
     "name": "stdout",
     "output_type": "stream",
     "text": [
      "\n",
      "Price change calculated for first 5 rows:\n",
      "  ticker  price_change\n",
      "0   AAPL      3.333333\n",
      "1  GOOGL    -94.464286\n",
      "2   TSLA      1.428571\n",
      "3   AAPL     -0.645161\n",
      "4  GOOGL      0.353982\n"
     ]
    }
   ],
   "source": [
    "# Calculate price change %\n",
    "stock['price_change'] = ((stock['close'] - stock['open']) / stock['open']) * 100\n",
    "print(\"\\nPrice change calculated for first 5 rows:\")\n",
    "print(stock[['ticker', 'price_change']].head())"
   ]
  },
  {
   "cell_type": "code",
   "execution_count": 11,
   "id": "d5ca0717-2ca1-4605-bfe3-878562071429",
   "metadata": {},
   "outputs": [
    {
     "name": "stdout",
     "output_type": "stream",
     "text": [
      "\n",
      "Database updated with price_change.\n"
     ]
    }
   ],
   "source": [
    "# Update transformed data back to database\n",
    "for index, row in stock.iterrows():\n",
    "    cursor.execute(\"UPDATE stocks SET price_change = ? WHERE id = ?\", (row['price_change'], row['id']))\n",
    "conn.commit()\n",
    "print(\"\\nDatabase updated with price_change.\")"
   ]
  },
  {
   "cell_type": "code",
   "execution_count": 12,
   "id": "dd766d4c-e86d-4011-9280-ae85cc29c92d",
   "metadata": {},
   "outputs": [
    {
     "name": "stdout",
     "output_type": "stream",
     "text": [
      "\n",
      "Reloaded data after transformation:\n"
     ]
    },
    {
     "data": {
      "text/html": [
       "<div>\n",
       "<style scoped>\n",
       "    .dataframe tbody tr th:only-of-type {\n",
       "        vertical-align: middle;\n",
       "    }\n",
       "\n",
       "    .dataframe tbody tr th {\n",
       "        vertical-align: top;\n",
       "    }\n",
       "\n",
       "    .dataframe thead th {\n",
       "        text-align: right;\n",
       "    }\n",
       "</style>\n",
       "<table border=\"1\" class=\"dataframe\">\n",
       "  <thead>\n",
       "    <tr style=\"text-align: right;\">\n",
       "      <th></th>\n",
       "      <th>id</th>\n",
       "      <th>date</th>\n",
       "      <th>ticker</th>\n",
       "      <th>open</th>\n",
       "      <th>close</th>\n",
       "      <th>volume</th>\n",
       "      <th>sector</th>\n",
       "      <th>price_change</th>\n",
       "    </tr>\n",
       "  </thead>\n",
       "  <tbody>\n",
       "    <tr>\n",
       "      <th>0</th>\n",
       "      <td>21</td>\n",
       "      <td>2025-09-01</td>\n",
       "      <td>AAPL</td>\n",
       "      <td>150.0</td>\n",
       "      <td>155.0</td>\n",
       "      <td>50000000</td>\n",
       "      <td>Technology</td>\n",
       "      <td>3.333333</td>\n",
       "    </tr>\n",
       "    <tr>\n",
       "      <th>1</th>\n",
       "      <td>22</td>\n",
       "      <td>2025-09-01</td>\n",
       "      <td>GOOGL</td>\n",
       "      <td>2800.0</td>\n",
       "      <td>NaN</td>\n",
       "      <td>1500000</td>\n",
       "      <td>Technology</td>\n",
       "      <td>-94.464286</td>\n",
       "    </tr>\n",
       "    <tr>\n",
       "      <th>2</th>\n",
       "      <td>23</td>\n",
       "      <td>2025-09-01</td>\n",
       "      <td>TSLA</td>\n",
       "      <td>700.0</td>\n",
       "      <td>710.0</td>\n",
       "      <td>30000000</td>\n",
       "      <td>Automotive</td>\n",
       "      <td>1.428571</td>\n",
       "    </tr>\n",
       "    <tr>\n",
       "      <th>3</th>\n",
       "      <td>24</td>\n",
       "      <td>2025-09-02</td>\n",
       "      <td>AAPL</td>\n",
       "      <td>155.0</td>\n",
       "      <td>154.0</td>\n",
       "      <td>48000000</td>\n",
       "      <td>Technology</td>\n",
       "      <td>-0.645161</td>\n",
       "    </tr>\n",
       "    <tr>\n",
       "      <th>4</th>\n",
       "      <td>25</td>\n",
       "      <td>2025-09-02</td>\n",
       "      <td>GOOGL</td>\n",
       "      <td>2825.0</td>\n",
       "      <td>2835.0</td>\n",
       "      <td>1600000</td>\n",
       "      <td>Technology</td>\n",
       "      <td>0.353982</td>\n",
       "    </tr>\n",
       "  </tbody>\n",
       "</table>\n",
       "</div>"
      ],
      "text/plain": [
       "   id        date ticker    open   close    volume      sector  price_change\n",
       "0  21  2025-09-01   AAPL   150.0   155.0  50000000  Technology      3.333333\n",
       "1  22  2025-09-01  GOOGL  2800.0     NaN   1500000  Technology    -94.464286\n",
       "2  23  2025-09-01   TSLA   700.0   710.0  30000000  Automotive      1.428571\n",
       "3  24  2025-09-02   AAPL   155.0   154.0  48000000  Technology     -0.645161\n",
       "4  25  2025-09-02  GOOGL  2825.0  2835.0   1600000  Technology      0.353982"
      ]
     },
     "execution_count": 12,
     "metadata": {},
     "output_type": "execute_result"
    }
   ],
   "source": [
    "# Reload updated data\n",
    "stock = pd.read_sql_query(\"SELECT * FROM stocks\", conn)\n",
    "print(\"\\nReloaded data after transformation:\")\n",
    "stock.head()"
   ]
  },
  {
   "cell_type": "code",
   "execution_count": 13,
   "id": "3b543801-fa49-4f46-af7a-d47211acb5a0",
   "metadata": {},
   "outputs": [
    {
     "name": "stdout",
     "output_type": "stream",
     "text": [
      "\n",
      "Reloaded data after transformation:\n"
     ]
    },
    {
     "data": {
      "text/html": [
       "<div>\n",
       "<style scoped>\n",
       "    .dataframe tbody tr th:only-of-type {\n",
       "        vertical-align: middle;\n",
       "    }\n",
       "\n",
       "    .dataframe tbody tr th {\n",
       "        vertical-align: top;\n",
       "    }\n",
       "\n",
       "    .dataframe thead th {\n",
       "        text-align: right;\n",
       "    }\n",
       "</style>\n",
       "<table border=\"1\" class=\"dataframe\">\n",
       "  <thead>\n",
       "    <tr style=\"text-align: right;\">\n",
       "      <th></th>\n",
       "      <th>id</th>\n",
       "      <th>date</th>\n",
       "      <th>ticker</th>\n",
       "      <th>open</th>\n",
       "      <th>close</th>\n",
       "      <th>volume</th>\n",
       "      <th>sector</th>\n",
       "      <th>price_change</th>\n",
       "    </tr>\n",
       "  </thead>\n",
       "  <tbody>\n",
       "    <tr>\n",
       "      <th>15</th>\n",
       "      <td>36</td>\n",
       "      <td>2025-09-07</td>\n",
       "      <td>XOM</td>\n",
       "      <td>70.0</td>\n",
       "      <td>69.0</td>\n",
       "      <td>20000000</td>\n",
       "      <td>Energy</td>\n",
       "      <td>-1.428571</td>\n",
       "    </tr>\n",
       "    <tr>\n",
       "      <th>16</th>\n",
       "      <td>37</td>\n",
       "      <td>2025-09-07</td>\n",
       "      <td>CVX</td>\n",
       "      <td>100.0</td>\n",
       "      <td>102.0</td>\n",
       "      <td>15000000</td>\n",
       "      <td>Energy</td>\n",
       "      <td>2.000000</td>\n",
       "    </tr>\n",
       "    <tr>\n",
       "      <th>17</th>\n",
       "      <td>38</td>\n",
       "      <td>2025-09-08</td>\n",
       "      <td>WMT</td>\n",
       "      <td>140.0</td>\n",
       "      <td>138.0</td>\n",
       "      <td>23000000</td>\n",
       "      <td>Consumer Staples</td>\n",
       "      <td>-1.428571</td>\n",
       "    </tr>\n",
       "    <tr>\n",
       "      <th>18</th>\n",
       "      <td>39</td>\n",
       "      <td>2025-09-08</td>\n",
       "      <td>KO</td>\n",
       "      <td>55.0</td>\n",
       "      <td>56.0</td>\n",
       "      <td>19000000</td>\n",
       "      <td>Consumer Staples</td>\n",
       "      <td>1.818182</td>\n",
       "    </tr>\n",
       "    <tr>\n",
       "      <th>19</th>\n",
       "      <td>40</td>\n",
       "      <td>2025-09-09</td>\n",
       "      <td>PYPL</td>\n",
       "      <td>260.0</td>\n",
       "      <td>262.0</td>\n",
       "      <td>12500000</td>\n",
       "      <td>Technology</td>\n",
       "      <td>0.769231</td>\n",
       "    </tr>\n",
       "  </tbody>\n",
       "</table>\n",
       "</div>"
      ],
      "text/plain": [
       "    id        date ticker   open  close    volume            sector  \\\n",
       "15  36  2025-09-07    XOM   70.0   69.0  20000000            Energy   \n",
       "16  37  2025-09-07    CVX  100.0  102.0  15000000            Energy   \n",
       "17  38  2025-09-08    WMT  140.0  138.0  23000000  Consumer Staples   \n",
       "18  39  2025-09-08     KO   55.0   56.0  19000000  Consumer Staples   \n",
       "19  40  2025-09-09   PYPL  260.0  262.0  12500000        Technology   \n",
       "\n",
       "    price_change  \n",
       "15     -1.428571  \n",
       "16      2.000000  \n",
       "17     -1.428571  \n",
       "18      1.818182  \n",
       "19      0.769231  "
      ]
     },
     "execution_count": 13,
     "metadata": {},
     "output_type": "execute_result"
    }
   ],
   "source": [
    "print(\"\\nReloaded data after transformation:\")\n",
    "stock.tail()"
   ]
  },
  {
   "cell_type": "code",
   "execution_count": 14,
   "id": "f118de2d-1dbd-424f-a39a-836034bd31df",
   "metadata": {},
   "outputs": [
    {
     "name": "stdout",
     "output_type": "stream",
     "text": [
      "\n",
      "Dataframe info:\n",
      "<class 'pandas.core.frame.DataFrame'>\n",
      "RangeIndex: 20 entries, 0 to 19\n",
      "Data columns (total 8 columns):\n",
      " #   Column        Non-Null Count  Dtype  \n",
      "---  ------        --------------  -----  \n",
      " 0   id            20 non-null     int64  \n",
      " 1   date          20 non-null     object \n",
      " 2   ticker        20 non-null     object \n",
      " 3   open          20 non-null     float64\n",
      " 4   close         18 non-null     float64\n",
      " 5   volume        20 non-null     int64  \n",
      " 6   sector        20 non-null     object \n",
      " 7   price_change  20 non-null     float64\n",
      "dtypes: float64(3), int64(2), object(3)\n",
      "memory usage: 1.4+ KB\n"
     ]
    }
   ],
   "source": [
    "# Inspect data info\n",
    "print(\"\\nDataframe info:\")\n",
    "stock.info()"
   ]
  },
  {
   "cell_type": "code",
   "execution_count": 15,
   "id": "fe22d7fe-8e7c-40ca-8cc2-de780cf605c7",
   "metadata": {},
   "outputs": [
    {
     "name": "stdout",
     "output_type": "stream",
     "text": [
      "\n",
      "Duplicate rows before removal: 0\n",
      "Duplicate rows after removal: 0\n"
     ]
    }
   ],
   "source": [
    "# Handle duplicates if any\n",
    "print(\"\\nDuplicate rows before removal:\", stock.duplicated().sum())\n",
    "stock.drop_duplicates(inplace=True)\n",
    "print(\"Duplicate rows after removal:\", stock.duplicated().sum())"
   ]
  },
  {
   "cell_type": "code",
   "execution_count": 16,
   "id": "606b24e0-ebb3-483c-8ab6-b96edda440e4",
   "metadata": {},
   "outputs": [
    {
     "name": "stdout",
     "output_type": "stream",
     "text": [
      "\n",
      "First row, first column (id): 21\n"
     ]
    }
   ],
   "source": [
    "# Access specific data points\n",
    "print(\"\\nFirst row, first column (id):\", stock.iloc[0, 0])"
   ]
  },
  {
   "cell_type": "code",
   "execution_count": 17,
   "id": "c4dcede6-6758-4aca-81e2-738bb39eaba5",
   "metadata": {},
   "outputs": [
    {
     "name": "stdout",
     "output_type": "stream",
     "text": [
      "Last row, last column (daily_range): 0.7692307692307693\n"
     ]
    }
   ],
   "source": [
    "print(\"Last row, last column (daily_range):\", stock.iloc[-1, -1])"
   ]
  },
  {
   "cell_type": "code",
   "execution_count": 18,
   "id": "9c826ba9-0e4c-4f36-bba0-e36a2e704b4a",
   "metadata": {},
   "outputs": [
    {
     "name": "stdout",
     "output_type": "stream",
     "text": [
      "Row at index 3:\n",
      " id                      24\n",
      "date            2025-09-02\n",
      "ticker                AAPL\n",
      "open                 155.0\n",
      "close                154.0\n",
      "volume            48000000\n",
      "sector          Technology\n",
      "price_change     -0.645161\n",
      "Name: 3, dtype: object\n"
     ]
    }
   ],
   "source": [
    "print(\"Row at index 3:\\n\", stock.loc[3])"
   ]
  },
  {
   "cell_type": "code",
   "execution_count": 19,
   "id": "6fa821f3-5c9f-46d4-bcb3-6808278f4881",
   "metadata": {},
   "outputs": [
    {
     "data": {
      "image/png": "[encoded data removed]",
      "text/plain": [
       "<Figure size 1000x600 with 1 Axes>"
      ]
     },
     "metadata": {},
     "output_type": "display_data"
    }
   ],
   "source": [
    "# Histogram of Daily Trading Volume\n",
    "plt.figure(figsize=(10,6))\n",
    "sns.histplot(stock['volume'], bins=30, kde=True)\n",
    "plt.title('Distribution of Daily Trading Volume')\n",
    "plt.xlabel('Volume')\n",
    "plt.ylabel('Count')\n",
    "plt.show()"
   ]
  },
  {
   "cell_type": "code",
   "execution_count": 20,
   "id": "94b9874f-f677-45df-b7e6-35e3e8ec3da9",
   "metadata": {},
   "outputs": [],
   "source": [
    "# After reloading or initial load\n",
    "stock['daily_range'] = abs(stock['close'] - stock['open'])"
   ]
  },
  {
   "cell_type": "code",
   "execution_count": 21,
   "id": "42d9dd4b-3d49-462d-bccd-0c1f0e9c5d8f",
   "metadata": {},
   "outputs": [
    {
     "data": {
      "image/png": "[encoded data removed]",
      "text/plain": [
       "<Figure size 1250x1250 with 30 Axes>"
      ]
     },
     "metadata": {},
     "output_type": "display_data"
    }
   ],
   "source": [
    "# Pair Plot to Explore Relationships Among Numeric Variables\n",
    "sns.pairplot(stock[['open', 'close', 'volume', 'price_change', 'daily_range']])\n",
    "plt.suptitle('Pair Plot of Stock Variables', y=1.02)\n",
    "plt.show()"
   ]
  },
  {
   "cell_type": "code",
   "execution_count": 22,
   "id": "412d507e-38cc-4948-a833-b0b72bb874c1",
   "metadata": {},
   "outputs": [
    {
     "data": {
      "image/png": "[encoded data removed]",
      "text/plain": [
       "<Figure size 1000x500 with 1 Axes>"
      ]
     },
     "metadata": {},
     "output_type": "display_data"
    }
   ],
   "source": [
    "# Count Plot of Number of Tickers per Sector\n",
    "plt.figure(figsize=(10,5))\n",
    "sns.countplot(y='sector', data=stock, order=stock['sector'].value_counts().index)\n",
    "plt.title('Number of Records per Sector')\n",
    "plt.show()"
   ]
  },
  {
   "cell_type": "code",
   "execution_count": 23,
   "id": "ce985a5f-6f7b-4d02-9c95-87c3c3d97a3c",
   "metadata": {},
   "outputs": [
    {
     "name": "stdout",
     "output_type": "stream",
     "text": [
      "DataFrame saved as CSV file.\n"
     ]
    }
   ],
   "source": [
    "stock.to_csv('stock_market_2025_cleaned.csv', index=False)\n",
    "print(\"DataFrame saved as CSV file.\")"
   ]
  },
  {
   "cell_type": "code",
   "execution_count": null,
   "id": "23d13223-7f56-444c-b14a-10110c514b79",
   "metadata": {},
   "outputs": [],
   "source": [
    "# Cleanup\n",
    "cursor.close()\n",
    "conn.close()\n",
    "print(\"Database connection closed.\")"
   ]
  }
 ],
 "metadata": {
  "kernelspec": {
   "display_name": "Python [conda env:base] *",
   "language": "python",
   "name": "conda-base-py"
  },
  "language_info": {
   "codemirror_mode": {
    "name": "ipython",
    "version": 3
   },
   "file_extension": ".py",
   "mimetype": "text/x-python",
   "name": "python",
   "nbconvert_exporter": "python",
   "pygments_lexer": "ipython3",
   "version": "3.13.5"
  }
 },
 "nbformat": 4,
 "nbformat_minor": 5
}
